{
 "cells": [
  {
   "cell_type": "code",
   "execution_count": 22,
   "id": "9b9c9eb4",
   "metadata": {
    "collapsed": true
   },
   "outputs": [
    {
     "name": "stdout",
     "output_type": "stream",
     "text": [
      "User Name:lkdfjisd\n",
      "Password:dkjfjl\n",
      "xx.. Login Failed.. xx\n"
     ]
    }
   ],
   "source": [
    "# Login Credentials\n",
    "uname=\"gistcse\"\n",
    "pwd=\"Gist@cse2\"\n",
    "user=input(\"User Name:\")\n",
    "password=input(\"Password:\")\n",
    "if user==uname and password==pwd:\n",
    "    print(\"Login Successful...!\")\n",
    "else:\n",
    "    if user!=uname and password==pwd:\n",
    "        print(\"Invalid user name..!\")\n",
    "    elif user==uname and password!=pwd:\n",
    "        print(\"Wrong Password..!\")\n",
    "    else:\n",
    "        print(\"xx.. Login Failed.. xx\")\n",
    "        "
   ]
  },
  {
   "cell_type": "markdown",
   "id": "b47f5a18",
   "metadata": {},
   "source": [
    "#### Loops in python\n",
    "- iteration of statements\n",
    "- for,while loops\n",
    "    - **For Loop**\n",
    "        - **syntax**\n",
    "            - for iterator in iterable:\n",
    "                - statements\n",
    "            - for iterator in range(len(iterable)):\n",
    "                - statements\n",
    "        - default incrementation is 1"
   ]
  },
  {
   "cell_type": "code",
   "execution_count": 23,
   "id": "54edb63b",
   "metadata": {
    "collapsed": true
   },
   "outputs": [
    {
     "name": "stdout",
     "output_type": "stream",
     "text": [
      "A\n",
      "A\n",
      "A\n",
      "A\n",
      "A\n"
     ]
    }
   ],
   "source": [
    "# why loops?\n",
    "# display your name for 5times\n",
    "print(\"A\")\n",
    "print(\"A\")\n",
    "print(\"A\")\n",
    "print(\"A\")\n",
    "print(\"A\")"
   ]
  },
  {
   "cell_type": "code",
   "execution_count": 24,
   "id": "7981bf64",
   "metadata": {
    "collapsed": true
   },
   "outputs": [
    {
     "name": "stdout",
     "output_type": "stream",
     "text": [
      "A\n",
      "A\n",
      "A\n",
      "A\n",
      "A\n",
      "A\n",
      "A\n",
      "A\n",
      "A\n"
     ]
    }
   ],
   "source": [
    "for val in range(1,10): # 1,2,3,4,..9\n",
    "    print(\"A\")"
   ]
  },
  {
   "cell_type": "code",
   "execution_count": 25,
   "id": "42c6aa2c",
   "metadata": {},
   "outputs": [
    {
     "name": "stdout",
     "output_type": "stream",
     "text": [
      "1 2 3 4 5 6 7 8 9 10 "
     ]
    }
   ],
   "source": [
    "for val in range(1,11):\n",
    "    print(val,end=\" \")"
   ]
  },
  {
   "cell_type": "code",
   "execution_count": 26,
   "id": "7acf348f",
   "metadata": {},
   "outputs": [
    {
     "name": "stdout",
     "output_type": "stream",
     "text": [
      "10 9 8 7 6 5 4 3 2 1 "
     ]
    }
   ],
   "source": [
    "for val in range(10,0,-1): # (start,stop,step_count)\n",
    "    print(val,end=\" \")\n",
    "    "
   ]
  },
  {
   "cell_type": "code",
   "execution_count": 27,
   "id": "8cad4082",
   "metadata": {},
   "outputs": [
    {
     "name": "stdout",
     "output_type": "stream",
     "text": [
      "1 3 5 7 9 11 13 15 17 19 "
     ]
    }
   ],
   "source": [
    "for val in range(1,20,2):\n",
    "    print(val,end=\" \")"
   ]
  },
  {
   "cell_type": "code",
   "execution_count": 28,
   "id": "fc18d024",
   "metadata": {
    "collapsed": true
   },
   "outputs": [
    {
     "name": "stdout",
     "output_type": "stream",
     "text": [
      "enter the number:9\n",
      "9 x 1 = 9\n",
      "9 x 2 = 18\n",
      "9 x 3 = 27\n",
      "9 x 4 = 36\n",
      "9 x 5 = 45\n",
      "9 x 6 = 54\n",
      "9 x 7 = 63\n",
      "9 x 8 = 72\n",
      "9 x 9 = 81\n",
      "9 x 10 = 90\n"
     ]
    }
   ],
   "source": [
    "# write a python program to print nth multiplication table\n",
    "# multiplication table for 9\n",
    "'''\n",
    "9x1=9\n",
    "9x2=18\n",
    "9x3=27\n",
    ".....\n",
    "9x10=90\n",
    "'''\n",
    "n=int(input(\"enter the number:\"))\n",
    "for v in range(1,11):\n",
    "    print(n,'x',v,'=',n*v)\n"
   ]
  },
  {
   "cell_type": "code",
   "execution_count": 29,
   "id": "a84ba4aa",
   "metadata": {
    "collapsed": true
   },
   "outputs": [
    {
     "name": "stdout",
     "output_type": "stream",
     "text": [
      "G\n",
      "I\n",
      "S\n",
      "T\n"
     ]
    }
   ],
   "source": [
    "for ch in \"GIST\":\n",
    "    print(ch)"
   ]
  },
  {
   "cell_type": "markdown",
   "id": "b7da7cec",
   "metadata": {},
   "source": [
    "#### while Loop\n",
    "- condition based loop\n",
    "- user incrementation \n",
    "- **syntax**\n",
    "    - while condition:\n",
    "        - statements"
   ]
  },
  {
   "cell_type": "code",
   "execution_count": 1,
   "id": "c5d6373e",
   "metadata": {
    "collapsed": true
   },
   "outputs": [
    {
     "name": "stdout",
     "output_type": "stream",
     "text": [
      "1\n",
      "20\n",
      "2 4 6 8 10 12 14 16 18 20 "
     ]
    }
   ],
   "source": [
    "# write a python program to print the even no.s present in a range\n",
    "#using while\n",
    "lw,up=int(input()),int(input()) # 1,10\n",
    "while lw<=up: # universal truth-->infinite loop\n",
    "    if lw%2==0:\n",
    "        print(lw,end=\" \")\n",
    "    lw+=1 #==up\n",
    "\n",
    "    "
   ]
  },
  {
   "cell_type": "code",
   "execution_count": 6,
   "id": "ac096101",
   "metadata": {
    "collapsed": true
   },
   "outputs": [
    {
     "name": "stdout",
     "output_type": "stream",
     "text": [
      "20\n",
      "1\n",
      "19 17 15 13 11 9 7 5 3 1 "
     ]
    }
   ],
   "source": [
    "# while loop in reverse order\n",
    "x,y=int(input()),int(input()) # 20,1\n",
    "while x>=y:\n",
    "    if x%2==1:\n",
    "        print(x,end=\" \")\n",
    "    x-=1"
   ]
  },
  {
   "cell_type": "markdown",
   "id": "02fc2ef3",
   "metadata": {},
   "source": [
    "#### Nested Loops\n",
    "- loops within loop\n",
    "    - i loop\n",
    "        - j loop"
   ]
  },
  {
   "cell_type": "markdown",
   "id": "195935b3",
   "metadata": {},
   "source": [
    "#### 2 iterables at a time\n",
    ". . . . <br>\n",
    ". . . . <br>\n",
    ". . . .\n"
   ]
  },
  {
   "cell_type": "code",
   "execution_count": 15,
   "id": "9e2acb7a",
   "metadata": {
    "collapsed": true
   },
   "outputs": [
    {
     "name": "stdout",
     "output_type": "stream",
     "text": [
      "* * * * \n",
      "* * * * \n",
      "* * * * \n",
      "* * * * \n",
      "* * * * \n"
     ]
    }
   ],
   "source": [
    "for r in range(1,6):\n",
    "    for cl in range(1,5):\n",
    "        print('*',end=\" \")\n",
    "    print()"
   ]
  },
  {
   "cell_type": "code",
   "execution_count": 16,
   "id": "32691e4f",
   "metadata": {
    "collapsed": true
   },
   "outputs": [
    {
     "name": "stdout",
     "output_type": "stream",
     "text": [
      "* \n",
      "* * \n",
      "* * * \n",
      "* * * * \n",
      "* * * * * \n"
     ]
    }
   ],
   "source": [
    "#iterate col w r t row\n",
    "for r in range(1,6):\n",
    "    for c in range(1,r+1):\n",
    "        print(\"*\",end=\" \")\n",
    "    print()"
   ]
  },
  {
   "cell_type": "code",
   "execution_count": 17,
   "id": "0b1d8eea",
   "metadata": {
    "collapsed": true
   },
   "outputs": [
    {
     "ename": "SyntaxError",
     "evalue": "invalid syntax (934475003.py, line 2)",
     "output_type": "error",
     "traceback": [
      "\u001b[1;36m  File \u001b[1;32m\"C:\\Users\\ruthu\\AppData\\Local\\Temp\\ipykernel_20672\\934475003.py\"\u001b[1;36m, line \u001b[1;32m2\u001b[0m\n\u001b[1;33m    * * * *\u001b[0m\n\u001b[1;37m      ^\u001b[0m\n\u001b[1;31mSyntaxError\u001b[0m\u001b[1;31m:\u001b[0m invalid syntax\n"
     ]
    }
   ],
   "source": [
    "# write a python program to print the following pattern\n",
    "* * * *\n",
    "  * * *\n",
    "    * *\n",
    "      *"
   ]
  },
  {
   "cell_type": "code",
   "execution_count": 18,
   "id": "0c36346e",
   "metadata": {},
   "outputs": [
    {
     "ename": "SyntaxError",
     "evalue": "invalid syntax (965164629.py, line 1)",
     "output_type": "error",
     "traceback": [
      "\u001b[1;36m  File \u001b[1;32m\"C:\\Users\\ruthu\\AppData\\Local\\Temp\\ipykernel_20672\\965164629.py\"\u001b[1;36m, line \u001b[1;32m1\u001b[0m\n\u001b[1;33m    * * * * *\u001b[0m\n\u001b[1;37m      ^\u001b[0m\n\u001b[1;31mSyntaxError\u001b[0m\u001b[1;31m:\u001b[0m invalid syntax\n"
     ]
    }
   ],
   "source": [
    "* * * * *\n",
    "* * * * *\n",
    "* * * * *\n",
    "* * * * *\n",
    "* * * * *\n"
   ]
  },
  {
   "cell_type": "code",
   "execution_count": 21,
   "id": "3a3cbf8c",
   "metadata": {
    "collapsed": true
   },
   "outputs": [
    {
     "name": "stdout",
     "output_type": "stream",
     "text": [
      "@ * * * * \n",
      "# @ * * * \n",
      "# # @ * * \n",
      "# # # @ * \n",
      "# # # # @ \n"
     ]
    }
   ],
   "source": [
    "for row in range(1,6):\n",
    "    for col in range(1,6):\n",
    "        if row==col:\n",
    "            print(\"@\",end=\" \")\n",
    "        elif row>col:\n",
    "            print(\"#\",end=\" \")\n",
    "        else:\n",
    "            print(\"*\",end=\" \")\n",
    "    print()"
   ]
  },
  {
   "cell_type": "markdown",
   "id": "69b17e39",
   "metadata": {},
   "source": [
    "#### Functions\n",
    "- Group/collection of statements executed to perform a specific task\n",
    "- There 2types of functions\n",
    "    1. Pre-defined/built in functions\n",
    "        - These functions were defined when the language is developed\n",
    "        - these functions are highlighted in green colour\n",
    "        - Ex:print(),input(),int(),float(),type(),bool(),bin(),dir(),str(),set(),dict(),enumerate(),sum(),sorted(),list(),tuple(),max(),min() etc\n",
    "        - a user can call and use those functions\n",
    "    2. User Defined"
   ]
  },
  {
   "cell_type": "code",
   "execution_count": 22,
   "id": "26e685fb",
   "metadata": {
    "collapsed": true
   },
   "outputs": [
    {
     "name": "stdout",
     "output_type": "stream",
     "text": [
      "\n",
      "cvb\n"
     ]
    },
    {
     "ename": "TypeError",
     "evalue": "sum() takes at least 1 positional argument (0 given)",
     "output_type": "error",
     "traceback": [
      "\u001b[1;31m---------------------------------------------------------------------------\u001b[0m",
      "\u001b[1;31mTypeError\u001b[0m                                 Traceback (most recent call last)",
      "\u001b[1;32m~\\AppData\\Local\\Temp\\ipykernel_20672\\1033170025.py\u001b[0m in \u001b[0;36m<module>\u001b[1;34m\u001b[0m\n\u001b[0;32m      1\u001b[0m \u001b[0mprint\u001b[0m\u001b[1;33m(\u001b[0m\u001b[1;33m)\u001b[0m\u001b[1;33m\u001b[0m\u001b[1;33m\u001b[0m\u001b[0m\n\u001b[0;32m      2\u001b[0m \u001b[0minput\u001b[0m\u001b[1;33m(\u001b[0m\u001b[1;33m)\u001b[0m\u001b[1;33m\u001b[0m\u001b[1;33m\u001b[0m\u001b[0m\n\u001b[1;32m----> 3\u001b[1;33m \u001b[0msum\u001b[0m\u001b[1;33m(\u001b[0m\u001b[1;33m)\u001b[0m\u001b[1;33m\u001b[0m\u001b[1;33m\u001b[0m\u001b[0m\n\u001b[0m\u001b[0;32m      4\u001b[0m \u001b[0mint\u001b[0m\u001b[1;33m(\u001b[0m\u001b[1;33m)\u001b[0m\u001b[1;33m\u001b[0m\u001b[1;33m\u001b[0m\u001b[0m\n\u001b[0;32m      5\u001b[0m \u001b[0mmax\u001b[0m\u001b[1;33m(\u001b[0m\u001b[1;33m)\u001b[0m\u001b[1;33m\u001b[0m\u001b[1;33m\u001b[0m\u001b[0m\n",
      "\u001b[1;31mTypeError\u001b[0m: sum() takes at least 1 positional argument (0 given)"
     ]
    }
   ],
   "source": [
    "print()\n",
    "input()\n",
    "sum()\n",
    "int()\n",
    "max()\n",
    "min()\n",
    "list()\n",
    "tuple()\n",
    "dir()\n",
    "help()\n",
    "type()\n",
    "bin()\n",
    "ord()\n",
    "chr()\n",
    "enumerate()\n",
    "open()\n",
    "sorted()\n",
    "str(),tuple(),list(),set(),dict()"
   ]
  },
  {
   "cell_type": "code",
   "execution_count": 23,
   "id": "ec10af55",
   "metadata": {
    "collapsed": true
   },
   "outputs": [
    {
     "name": "stdout",
     "output_type": "stream",
     "text": [
      "Help on built-in function print in module builtins:\n",
      "\n",
      "print(...)\n",
      "    print(value, ..., sep=' ', end='\\n', file=sys.stdout, flush=False)\n",
      "    \n",
      "    Prints the values to a stream, or to sys.stdout by default.\n",
      "    Optional keyword arguments:\n",
      "    file:  a file-like object (stream); defaults to the current sys.stdout.\n",
      "    sep:   string inserted between values, default a space.\n",
      "    end:   string appended after the last value, default a newline.\n",
      "    flush: whether to forcibly flush the stream.\n",
      "\n"
     ]
    }
   ],
   "source": [
    "help(print)"
   ]
  },
  {
   "cell_type": "code",
   "execution_count": 24,
   "id": "f2dd3760",
   "metadata": {
    "collapsed": true
   },
   "outputs": [
    {
     "name": "stdout",
     "output_type": "stream",
     "text": [
      "Help on method raw_input in module ipykernel.kernelbase:\n",
      "\n",
      "raw_input(prompt='') method of ipykernel.ipkernel.IPythonKernel instance\n",
      "    Forward raw_input to frontends\n",
      "    \n",
      "    Raises\n",
      "    ------\n",
      "    StdinNotImplementedError if active frontend doesn't support stdin.\n",
      "\n"
     ]
    }
   ],
   "source": [
    "help(input)"
   ]
  },
  {
   "cell_type": "markdown",
   "id": "3c4f325b",
   "metadata": {},
   "source": [
    "#### User defined Functions\n",
    "- These functions are defined by user\n",
    "- def is the keyword that represents function\n",
    "- **syntax**\n",
    "    - def function_name(arguments)\n",
    "        - statements\n",
    "- recursive function\n",
    "- non-recursive(mostly used)\n",
    "- **Features of function**\n",
    "     - reusability of code\n",
    "     - follows the modularity\n",
    "- function definition\n",
    "    - variables used here called as arguments\n",
    "    - reference var\n",
    "- function call\n",
    "    - parameters ,actual data points"
   ]
  },
  {
   "cell_type": "code",
   "execution_count": 26,
   "id": "5a0aa6ef",
   "metadata": {
    "collapsed": true
   },
   "outputs": [
    {
     "name": "stdout",
     "output_type": "stream",
     "text": [
      "working with functions\n"
     ]
    }
   ],
   "source": [
    "# def function_name(arguments):\n",
    "def example():\n",
    "    print(\"working with functions\")\n",
    "    \n",
    "example()"
   ]
  },
  {
   "cell_type": "code",
   "execution_count": 33,
   "id": "419f58f7",
   "metadata": {
    "collapsed": true
   },
   "outputs": [
    {
     "name": "stdout",
     "output_type": "stream",
     "text": [
      "sum= 19\n"
     ]
    },
    {
     "data": {
      "text/plain": [
       "'I am Kavitha and my friend is Bhavya'"
      ]
     },
     "execution_count": 33,
     "metadata": {},
     "output_type": "execute_result"
    }
   ],
   "source": [
    "# function with argument and with return\n",
    "def add(x,y):\n",
    "    return x+y\n",
    "\n",
    "def display(a,b):\n",
    "    return f\"I am {a} and my friend is {b}\"\n",
    "\n",
    "print(\"sum=\",add(9,10)) # function call\n",
    "display('Kavitha','Bhavya')"
   ]
  },
  {
   "cell_type": "code",
   "execution_count": 30,
   "id": "bd801f61",
   "metadata": {},
   "outputs": [
    {
     "data": {
      "text/plain": [
       "'I am Ruthu and my friend is vanitha'"
      ]
     },
     "execution_count": 30,
     "metadata": {},
     "output_type": "execute_result"
    }
   ],
   "source": [
    "display(\"Ruthu\",'vanitha') # fun call"
   ]
  },
  {
   "cell_type": "code",
   "execution_count": 34,
   "id": "a6a6abeb",
   "metadata": {
    "collapsed": true
   },
   "outputs": [
    {
     "name": "stdout",
     "output_type": "stream",
     "text": [
      "8 x 1 = 8\n",
      "8 x 2 = 16\n",
      "8 x 3 = 24\n",
      "8 x 4 = 32\n",
      "8 x 5 = 40\n",
      "8 x 6 = 48\n",
      "8 x 7 = 56\n",
      "8 x 8 = 64\n",
      "8 x 9 = 72\n",
      "8 x 10 = 80\n"
     ]
    }
   ],
   "source": [
    "# function with argument and without return\n",
    "def table(n):\n",
    "    for i in range(1,11):\n",
    "        print(n,'x',i,'=',n*i)\n",
    "    \n",
    "table(8)"
   ]
  },
  {
   "cell_type": "code",
   "execution_count": 35,
   "id": "43922803",
   "metadata": {
    "collapsed": true
   },
   "outputs": [
    {
     "name": "stdout",
     "output_type": "stream",
     "text": [
      "9\n",
      "5\n"
     ]
    },
    {
     "data": {
      "text/plain": [
       "59049"
      ]
     },
     "execution_count": 35,
     "metadata": {},
     "output_type": "execute_result"
    }
   ],
   "source": [
    "# function without argument and with return\n",
    "def empty():\n",
    "    #local variables\n",
    "    a,b=int(input()),int(input())\n",
    "    return a**b\n",
    "\n",
    "empty()"
   ]
  },
  {
   "cell_type": "code",
   "execution_count": 36,
   "id": "d6882e32",
   "metadata": {},
   "outputs": [
    {
     "name": "stdout",
     "output_type": "stream",
     "text": [
      "no.of occurences= 2\n"
     ]
    }
   ],
   "source": [
    "# function without args and without return\n",
    "\n",
    "def final():\n",
    "    print(\"no.of occurences=\",st.count(ch))\n",
    "    \n",
    "st=\"college\"\n",
    "ch='e'\n",
    "final()"
   ]
  },
  {
   "cell_type": "code",
   "execution_count": 40,
   "id": "6b0a206f",
   "metadata": {},
   "outputs": [
    {
     "name": "stdout",
     "output_type": "stream",
     "text": [
      "enter the number:11\n",
      "1 11 given number is prime\n"
     ]
    }
   ],
   "source": [
    "# define a function that prints the prime no.s in a range\n",
    "#prime no.s has only 2 factors,i.e., 1 & n itself\n",
    "num=int(input(\"enter the number:\"))\n",
    "nfs=0\n",
    "for v in range(1,num+1): # 10:1,2,5,10\n",
    "    if num%v==0:\n",
    "        print(v,end=\" \")\n",
    "        nfs+=1\n",
    "if nfs==2:\n",
    "    print(\"given number is prime\")\n",
    "else:\n",
    "    print(\"non prime\")"
   ]
  },
  {
   "cell_type": "code",
   "execution_count": 43,
   "id": "2829d82b",
   "metadata": {},
   "outputs": [
    {
     "data": {
      "text/plain": [
       "True"
      ]
     },
     "execution_count": 43,
     "metadata": {},
     "output_type": "execute_result"
    }
   ],
   "source": [
    "def is_prime(n):\n",
    "    count=0\n",
    "    for v in range(1,n+1):\n",
    "        if n%v==0:\n",
    "            count+=1\n",
    "    if count==2:\n",
    "        return True\n",
    "    else:return False\n",
    "    \n",
    "is_prime(11)"
   ]
  },
  {
   "cell_type": "code",
   "execution_count": 42,
   "id": "e150069f",
   "metadata": {},
   "outputs": [
    {
     "data": {
      "text/plain": [
       "False"
      ]
     },
     "execution_count": 42,
     "metadata": {},
     "output_type": "execute_result"
    }
   ],
   "source": [
    "is_prime(10)"
   ]
  },
  {
   "cell_type": "code",
   "execution_count": 45,
   "id": "b145e779",
   "metadata": {
    "collapsed": true
   },
   "outputs": [
    {
     "name": "stdout",
     "output_type": "stream",
     "text": [
      "1\n",
      "100\n",
      "2 3 5 7 11 13 17 19 23 29 31 37 41 43 47 53 59 61 67 71 73 79 83 89 97 "
     ]
    }
   ],
   "source": [
    "def is_prime(n):\n",
    "    count=0\n",
    "    for v in range(1,n+1):\n",
    "        if n%v==0:\n",
    "            count+=1\n",
    "    if count==2:\n",
    "        return True\n",
    "    else:return False\n",
    "    \n",
    "#is_prime(11)\n",
    "lw,up=int(input()),int(input())\n",
    "for v in range(lw,up+1):\n",
    "    if is_prime(v):\n",
    "        print(v,end=\" \")\n",
    "    "
   ]
  },
  {
   "cell_type": "code",
   "execution_count": 46,
   "id": "2e66b3c8",
   "metadata": {},
   "outputs": [
    {
     "name": "stdout",
     "output_type": "stream",
     "text": [
      "5\n",
      "factorial value= 120\n"
     ]
    }
   ],
   "source": [
    "#Recursive functions\n",
    "# function calling itself\n",
    "# factorial of number # n-->n*n-1*n-2*n-3..n*(n-n-1)..1\n",
    "#5--5*4*3*2*1\n",
    "val=int(input())\n",
    "fact=1\n",
    "for dig in range(val,0,-1):\n",
    "    fact*=dig\n",
    "print(\"factorial value=\",fact)"
   ]
  },
  {
   "cell_type": "code",
   "execution_count": 47,
   "id": "08952e36",
   "metadata": {},
   "outputs": [
    {
     "data": {
      "text/plain": [
       "24"
      ]
     },
     "execution_count": 47,
     "metadata": {},
     "output_type": "execute_result"
    }
   ],
   "source": [
    "#finding factorial value using function\n",
    "def factorial(n):\n",
    "    if n==0 or n==1:\n",
    "        return 1\n",
    "    else:\n",
    "        return n*factorial(n-1)\n",
    "factorial(4)"
   ]
  },
  {
   "cell_type": "markdown",
   "id": "147b97e2",
   "metadata": {},
   "source": [
    "#### Strings\n",
    "- Group of characters\n",
    "- anything that is enclosed in the quotations called as string\n",
    "- a single character is also a string\n",
    "- str() that represents the string data\n",
    "- str=''/\"\"/''' '''\n"
   ]
  },
  {
   "cell_type": "code",
   "execution_count": 51,
   "id": "d792a265",
   "metadata": {
    "collapsed": true
   },
   "outputs": [
    {
     "name": "stdout",
     "output_type": "stream",
     "text": [
      "enter the name:Karishma\n",
      "Afifa Bhavana Susmitha and Karishma are friends.A\n",
      "f\n",
      "i\n",
      "f\n",
      "a\n"
     ]
    }
   ],
   "source": [
    "#String declaration\n",
    "name='Afifa'\n",
    "frnd=\"Bhavana\"\n",
    "other='''Susmitha'''\n",
    "clsmt=input(\"enter the name:\") # Karishma\n",
    "print(name,frnd,other,'and',clsmt,\"are friends\",end=\".\")\n",
    "for ch in name:\n",
    "    print(ch)"
   ]
  },
  {
   "cell_type": "code",
   "execution_count": 52,
   "id": "64e3d096",
   "metadata": {},
   "outputs": [
    {
     "name": "stdout",
     "output_type": "stream",
     "text": [
      "K a r i s h m a "
     ]
    }
   ],
   "source": [
    "for ch in clsmt: # iteration of string\n",
    "    print(ch,end=\" \")"
   ]
  },
  {
   "cell_type": "code",
   "execution_count": 58,
   "id": "a3499d5c",
   "metadata": {
    "collapsed": true
   },
   "outputs": [
    {
     "name": "stdout",
     "output_type": "stream",
     "text": [
      "0:A\n",
      "1:f\n",
      "2:i\n",
      "3:f\n",
      "4:a\n"
     ]
    }
   ],
   "source": [
    "# iteration of string using index\n",
    "for ix in range(len(name)): # affia:5 characters:0 to 4\n",
    "    print(ix,name[ix],sep=\":\")"
   ]
  },
  {
   "cell_type": "markdown",
   "id": "dbb07766",
   "metadata": {},
   "source": [
    "#### String Methods\n",
    "- the functions can be applied on only strings\n",
    "- dir(str)"
   ]
  },
  {
   "cell_type": "code",
   "execution_count": 59,
   "id": "122cae2b",
   "metadata": {},
   "outputs": [
    {
     "name": "stdout",
     "output_type": "stream",
     "text": [
      "['__add__', '__class__', '__contains__', '__delattr__', '__dir__', '__doc__', '__eq__', '__format__', '__ge__', '__getattribute__', '__getitem__', '__getnewargs__', '__gt__', '__hash__', '__init__', '__init_subclass__', '__iter__', '__le__', '__len__', '__lt__', '__mod__', '__mul__', '__ne__', '__new__', '__reduce__', '__reduce_ex__', '__repr__', '__rmod__', '__rmul__', '__setattr__', '__sizeof__', '__str__', '__subclasshook__', 'capitalize', 'casefold', 'center', 'count', 'encode', 'endswith', 'expandtabs', 'find', 'format', 'format_map', 'index', 'isalnum', 'isalpha', 'isascii', 'isdecimal', 'isdigit', 'isidentifier', 'islower', 'isnumeric', 'isprintable', 'isspace', 'istitle', 'isupper', 'join', 'ljust', 'lower', 'lstrip', 'maketrans', 'partition', 'removeprefix', 'removesuffix', 'replace', 'rfind', 'rindex', 'rjust', 'rpartition', 'rsplit', 'rstrip', 'split', 'splitlines', 'startswith', 'strip', 'swapcase', 'title', 'translate', 'upper', 'zfill']\n"
     ]
    }
   ],
   "source": [
    "print(dir(str))"
   ]
  },
  {
   "cell_type": "code",
   "execution_count": 60,
   "id": "8d288af6",
   "metadata": {},
   "outputs": [
    {
     "name": "stdout",
     "output_type": "stream",
     "text": [
      "Help on method_descriptor:\n",
      "\n",
      "format_map(...)\n",
      "    S.format_map(mapping) -> str\n",
      "    \n",
      "    Return a formatted version of S, using substitutions from mapping.\n",
      "    The substitutions are identified by braces ('{' and '}').\n",
      "\n"
     ]
    }
   ],
   "source": [
    "#format_map,isnumeric,lower,partition\n",
    "help(str.format_map) "
   ]
  },
  {
   "cell_type": "code",
   "execution_count": 61,
   "id": "9a7ecd8b",
   "metadata": {},
   "outputs": [
    {
     "name": "stdout",
     "output_type": "stream",
     "text": [
      "Help on method_descriptor:\n",
      "\n",
      "isnumeric(self, /)\n",
      "    Return True if the string is a numeric string, False otherwise.\n",
      "    \n",
      "    A string is numeric if all characters in the string are numeric and there is at\n",
      "    least one character in the string.\n",
      "\n"
     ]
    }
   ],
   "source": [
    "help(str.isnumeric)"
   ]
  },
  {
   "cell_type": "code",
   "execution_count": 67,
   "id": "273f3fe8",
   "metadata": {
    "collapsed": true
   },
   "outputs": [
    {
     "data": {
      "text/plain": [
       "False"
      ]
     },
     "execution_count": 67,
     "metadata": {},
     "output_type": "execute_result"
    }
   ],
   "source": [
    "num=\"t123\"\n",
    "num.isnumeric()"
   ]
  },
  {
   "cell_type": "code",
   "execution_count": 68,
   "id": "f6aa28d6",
   "metadata": {},
   "outputs": [
    {
     "data": {
      "text/plain": [
       "False"
      ]
     },
     "execution_count": 68,
     "metadata": {},
     "output_type": "execute_result"
    }
   ],
   "source": [
    "clg=\"Geethanjali Inst of Science & Technology\"\n",
    "clg.isalpha()"
   ]
  },
  {
   "cell_type": "code",
   "execution_count": 69,
   "id": "a459e63b",
   "metadata": {},
   "outputs": [
    {
     "data": {
      "text/plain": [
       "True"
      ]
     },
     "execution_count": 69,
     "metadata": {},
     "output_type": "execute_result"
    }
   ],
   "source": [
    "\"ramya\".isalpha()"
   ]
  },
  {
   "cell_type": "code",
   "execution_count": 70,
   "id": "90d6df63",
   "metadata": {},
   "outputs": [
    {
     "data": {
      "text/plain": [
       "True"
      ]
     },
     "execution_count": 70,
     "metadata": {},
     "output_type": "execute_result"
    }
   ],
   "source": [
    "\"CSE2\".isalnum()"
   ]
  },
  {
   "cell_type": "code",
   "execution_count": 72,
   "id": "8fe82210",
   "metadata": {},
   "outputs": [
    {
     "data": {
      "text/plain": [
       "True"
      ]
     },
     "execution_count": 72,
     "metadata": {},
     "output_type": "execute_result"
    }
   ],
   "source": [
    "pwd=\"CSE123\"\n",
    "pwd[3].isdigit()"
   ]
  },
  {
   "cell_type": "code",
   "execution_count": 73,
   "id": "7535600d",
   "metadata": {},
   "outputs": [
    {
     "data": {
      "text/plain": [
       "True"
      ]
     },
     "execution_count": 73,
     "metadata": {},
     "output_type": "execute_result"
    }
   ],
   "source": [
    "pwd[3].isnumeric()"
   ]
  },
  {
   "cell_type": "code",
   "execution_count": 74,
   "id": "af387ed9",
   "metadata": {},
   "outputs": [
    {
     "data": {
      "text/plain": [
       "'Geethanjali Inst of Science & Technology'"
      ]
     },
     "execution_count": 74,
     "metadata": {},
     "output_type": "execute_result"
    }
   ],
   "source": [
    "clg"
   ]
  },
  {
   "cell_type": "code",
   "execution_count": 75,
   "id": "59bc6cdd",
   "metadata": {},
   "outputs": [
    {
     "data": {
      "text/plain": [
       "'geethanjali inst of science & technology'"
      ]
     },
     "execution_count": 75,
     "metadata": {},
     "output_type": "execute_result"
    }
   ],
   "source": [
    "clg.lower()"
   ]
  },
  {
   "cell_type": "code",
   "execution_count": 76,
   "id": "1accb9a1",
   "metadata": {},
   "outputs": [
    {
     "data": {
      "text/plain": [
       "'GEETHANJALI INST OF SCIENCE & TECHNOLOGY'"
      ]
     },
     "execution_count": 76,
     "metadata": {},
     "output_type": "execute_result"
    }
   ],
   "source": [
    "clg.upper()"
   ]
  },
  {
   "cell_type": "code",
   "execution_count": 77,
   "id": "8557bf8c",
   "metadata": {},
   "outputs": [
    {
     "data": {
      "text/plain": [
       "'Geethanjali inst of science & technology'"
      ]
     },
     "execution_count": 77,
     "metadata": {},
     "output_type": "execute_result"
    }
   ],
   "source": [
    "clg.capitalize()"
   ]
  },
  {
   "cell_type": "code",
   "execution_count": 78,
   "id": "9c4a0e0d",
   "metadata": {},
   "outputs": [
    {
     "data": {
      "text/plain": [
       "'Geethanjali Inst Of Science & Technology'"
      ]
     },
     "execution_count": 78,
     "metadata": {},
     "output_type": "execute_result"
    }
   ],
   "source": [
    "clg.title()"
   ]
  },
  {
   "cell_type": "code",
   "execution_count": 80,
   "id": "f616b7b3",
   "metadata": {
    "collapsed": true
   },
   "outputs": [
    {
     "data": {
      "text/plain": [
       "'I am Ruthu and working at Aylin Technologies'"
      ]
     },
     "execution_count": 80,
     "metadata": {},
     "output_type": "execute_result"
    }
   ],
   "source": [
    "\"I am {0} and working at {1}\".format('Ruthu','Aylin Technologies')"
   ]
  },
  {
   "cell_type": "code",
   "execution_count": 87,
   "id": "8080f505",
   "metadata": {},
   "outputs": [],
   "source": [
    "# split\n",
    "#strip,lstrip,rstring\n",
    "#center\n",
    "#zfill"
   ]
  },
  {
   "cell_type": "code",
   "execution_count": 88,
   "id": "01bafda5",
   "metadata": {},
   "outputs": [
    {
     "data": {
      "text/plain": [
       "'Geethanjali Inst of Science & Technology'"
      ]
     },
     "execution_count": 88,
     "metadata": {},
     "output_type": "execute_result"
    }
   ],
   "source": [
    "#str.split\n",
    "clg"
   ]
  },
  {
   "cell_type": "code",
   "execution_count": 89,
   "id": "ccfc8d55",
   "metadata": {},
   "outputs": [
    {
     "data": {
      "text/plain": [
       "['Geethanjali', 'Inst', 'of', 'Science', '&', 'Technology']"
      ]
     },
     "execution_count": 89,
     "metadata": {},
     "output_type": "execute_result"
    }
   ],
   "source": [
    "clg.split()"
   ]
  },
  {
   "cell_type": "code",
   "execution_count": 91,
   "id": "1f56a93c",
   "metadata": {
    "collapsed": true
   },
   "outputs": [
    {
     "data": {
      "text/plain": [
       "'hello'"
      ]
     },
     "execution_count": 91,
     "metadata": {},
     "output_type": "execute_result"
    }
   ],
   "source": [
    "#strip will remove the spaces from either side of the string\n",
    "a=\"    hello\"\n",
    "b=\"hey       \"\n",
    "c=\"    hi hello      \"\n",
    "a.lstrip()"
   ]
  },
  {
   "cell_type": "code",
   "execution_count": 92,
   "id": "83255e09",
   "metadata": {
    "collapsed": true
   },
   "outputs": [
    {
     "data": {
      "text/plain": [
       "'hey'"
      ]
     },
     "execution_count": 92,
     "metadata": {},
     "output_type": "execute_result"
    }
   ],
   "source": [
    "b.rstrip()"
   ]
  },
  {
   "cell_type": "code",
   "execution_count": 93,
   "id": "c57418b1",
   "metadata": {
    "collapsed": true
   },
   "outputs": [
    {
     "data": {
      "text/plain": [
       "'hi hello'"
      ]
     },
     "execution_count": 93,
     "metadata": {},
     "output_type": "execute_result"
    }
   ],
   "source": [
    "c.strip()"
   ]
  },
  {
   "cell_type": "code",
   "execution_count": 94,
   "id": "d5e7bb54",
   "metadata": {},
   "outputs": [
    {
     "data": {
      "text/plain": [
       "'0000000000000000000000000000000    hello'"
      ]
     },
     "execution_count": 94,
     "metadata": {},
     "output_type": "execute_result"
    }
   ],
   "source": [
    "a.zfill(40) "
   ]
  },
  {
   "cell_type": "code",
   "execution_count": 95,
   "id": "93d9eeaa",
   "metadata": {
    "collapsed": true
   },
   "outputs": [
    {
     "data": {
      "text/plain": [
       "['__add__',\n",
       " '__class__',\n",
       " '__contains__',\n",
       " '__delattr__',\n",
       " '__dir__',\n",
       " '__doc__',\n",
       " '__eq__',\n",
       " '__format__',\n",
       " '__ge__',\n",
       " '__getattribute__',\n",
       " '__getitem__',\n",
       " '__getnewargs__',\n",
       " '__gt__',\n",
       " '__hash__',\n",
       " '__init__',\n",
       " '__init_subclass__',\n",
       " '__iter__',\n",
       " '__le__',\n",
       " '__len__',\n",
       " '__lt__',\n",
       " '__mod__',\n",
       " '__mul__',\n",
       " '__ne__',\n",
       " '__new__',\n",
       " '__reduce__',\n",
       " '__reduce_ex__',\n",
       " '__repr__',\n",
       " '__rmod__',\n",
       " '__rmul__',\n",
       " '__setattr__',\n",
       " '__sizeof__',\n",
       " '__str__',\n",
       " '__subclasshook__',\n",
       " 'capitalize',\n",
       " 'casefold',\n",
       " 'center',\n",
       " 'count',\n",
       " 'encode',\n",
       " 'endswith',\n",
       " 'expandtabs',\n",
       " 'find',\n",
       " 'format',\n",
       " 'format_map',\n",
       " 'index',\n",
       " 'isalnum',\n",
       " 'isalpha',\n",
       " 'isascii',\n",
       " 'isdecimal',\n",
       " 'isdigit',\n",
       " 'isidentifier',\n",
       " 'islower',\n",
       " 'isnumeric',\n",
       " 'isprintable',\n",
       " 'isspace',\n",
       " 'istitle',\n",
       " 'isupper',\n",
       " 'join',\n",
       " 'ljust',\n",
       " 'lower',\n",
       " 'lstrip',\n",
       " 'maketrans',\n",
       " 'partition',\n",
       " 'removeprefix',\n",
       " 'removesuffix',\n",
       " 'replace',\n",
       " 'rfind',\n",
       " 'rindex',\n",
       " 'rjust',\n",
       " 'rpartition',\n",
       " 'rsplit',\n",
       " 'rstrip',\n",
       " 'split',\n",
       " 'splitlines',\n",
       " 'startswith',\n",
       " 'strip',\n",
       " 'swapcase',\n",
       " 'title',\n",
       " 'translate',\n",
       " 'upper',\n",
       " 'zfill']"
      ]
     },
     "execution_count": 95,
     "metadata": {},
     "output_type": "execute_result"
    }
   ],
   "source": [
    "dir(str)"
   ]
  },
  {
   "cell_type": "code",
   "execution_count": 96,
   "id": "c8b0ae0f",
   "metadata": {},
   "outputs": [
    {
     "data": {
      "text/plain": [
       "'geethanjali inst of science & technology'"
      ]
     },
     "execution_count": 96,
     "metadata": {},
     "output_type": "execute_result"
    }
   ],
   "source": [
    "clg.casefold()"
   ]
  },
  {
   "cell_type": "code",
   "execution_count": 97,
   "id": "fa896446",
   "metadata": {},
   "outputs": [
    {
     "name": "stdout",
     "output_type": "stream",
     "text": [
      "Help on method_descriptor:\n",
      "\n",
      "center(self, width, fillchar=' ', /)\n",
      "    Return a centered string of length width.\n",
      "    \n",
      "    Padding is done using the specified fill character (default is a space).\n",
      "\n"
     ]
    }
   ],
   "source": [
    "help(str.center)"
   ]
  },
  {
   "cell_type": "code",
   "execution_count": 101,
   "id": "89167f6b",
   "metadata": {},
   "outputs": [
    {
     "data": {
      "text/plain": [
       "'Geethanjali Inst of Science & Technology'"
      ]
     },
     "execution_count": 101,
     "metadata": {},
     "output_type": "execute_result"
    }
   ],
   "source": [
    "clg.center(5)"
   ]
  },
  {
   "cell_type": "code",
   "execution_count": 102,
   "id": "ffb60979",
   "metadata": {
    "collapsed": true
   },
   "outputs": [
    {
     "name": "stdout",
     "output_type": "stream",
     "text": [
      "Help on method_descriptor:\n",
      "\n",
      "join(self, iterable, /)\n",
      "    Concatenate any number of strings.\n",
      "    \n",
      "    The string whose method is called is inserted in between each given string.\n",
      "    The result is returned as a new string.\n",
      "    \n",
      "    Example: '.'.join(['ab', 'pq', 'rs']) -> 'ab.pq.rs'\n",
      "\n"
     ]
    }
   ],
   "source": [
    "#str.join\n",
    "help(str.join)"
   ]
  },
  {
   "cell_type": "code",
   "execution_count": 105,
   "id": "3088fc95",
   "metadata": {},
   "outputs": [
    {
     "data": {
      "text/plain": [
       "'kavya@Karishma@Bhavana@Susmitha'"
      ]
     },
     "execution_count": 105,
     "metadata": {},
     "output_type": "execute_result"
    }
   ],
   "source": [
    "'@'.join([name,clsmt,frnd,other]) # multiple strings together"
   ]
  },
  {
   "cell_type": "code",
   "execution_count": 104,
   "id": "dfd486e7",
   "metadata": {},
   "outputs": [
    {
     "data": {
      "text/plain": [
       "'                 kavya                  '"
      ]
     },
     "execution_count": 104,
     "metadata": {},
     "output_type": "execute_result"
    }
   ],
   "source": [
    "name=\"kavya\"\n",
    "name.center(40)"
   ]
  },
  {
   "cell_type": "code",
   "execution_count": null,
   "id": "4b980159",
   "metadata": {},
   "outputs": [],
   "source": []
  }
 ],
 "metadata": {
  "kernelspec": {
   "display_name": "Python 3 (ipykernel)",
   "language": "python",
   "name": "python3"
  },
  "language_info": {
   "codemirror_mode": {
    "name": "ipython",
    "version": 3
   },
   "file_extension": ".py",
   "mimetype": "text/x-python",
   "name": "python",
   "nbconvert_exporter": "python",
   "pygments_lexer": "ipython3",
   "version": "3.9.13"
  }
 },
 "nbformat": 4,
 "nbformat_minor": 5
}
