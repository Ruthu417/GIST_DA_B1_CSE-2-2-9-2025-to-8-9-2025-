{
 "cells": [
  {
   "cell_type": "markdown",
   "id": "fc67de0d",
   "metadata": {},
   "source": [
    "##### Today Concepts\n",
    "- continue with strings\n",
    "- Data Structures\n",
    "    - tuple\n",
    "    - list\n",
    "    - set\n",
    "    - dict"
   ]
  },
  {
   "cell_type": "markdown",
   "id": "b2f4583e",
   "metadata": {},
   "source": [
    "#### String methods\n",
    "- functions can be applied on strings only\n",
    "- str.count(ch)\n",
    "- index\n",
    "- replace\n",
    "- find\n",
    "- startswith\n",
    "- endswith\n",
    "- isalpha\n",
    "- isdigit/isnumeric\n",
    "- islower and lower\n",
    "- isupper and upper\n",
    "- casefold\n",
    "- swapcase\n",
    "- captilaize\n",
    "- title\n",
    "- center\n",
    "- format\n",
    "- split\n",
    "- strip\n",
    "    - lstrip\n",
    "    - rstrip\n",
    "- zfill\n",
    "- join etc"
   ]
  },
  {
   "cell_type": "code",
   "execution_count": 3,
   "id": "83660cbe",
   "metadata": {
    "collapsed": true
   },
   "outputs": [
    {
     "name": "stdout",
     "output_type": "stream",
     "text": [
      "your college name:student\n",
      "False\n",
      "False\n",
      "2\n",
      "-1\n"
     ]
    },
    {
     "ename": "ValueError",
     "evalue": "substring not found",
     "output_type": "error",
     "traceback": [
      "\u001b[1;31m---------------------------------------------------------------------------\u001b[0m",
      "\u001b[1;31mValueError\u001b[0m                                Traceback (most recent call last)",
      "\u001b[1;32m~\\AppData\\Local\\Temp\\ipykernel_21048\\3983883848.py\u001b[0m in \u001b[0;36m<module>\u001b[1;34m\u001b[0m\n\u001b[0;32m      7\u001b[0m \u001b[0mprint\u001b[0m\u001b[1;33m(\u001b[0m\u001b[0mclg\u001b[0m\u001b[1;33m.\u001b[0m\u001b[0mcount\u001b[0m\u001b[1;33m(\u001b[0m\u001b[1;34m't'\u001b[0m\u001b[1;33m)\u001b[0m\u001b[1;33m)\u001b[0m \u001b[1;31m# frequency of t-->no.of occurences of t in clg\u001b[0m\u001b[1;33m\u001b[0m\u001b[1;33m\u001b[0m\u001b[0m\n\u001b[0;32m      8\u001b[0m \u001b[0mprint\u001b[0m\u001b[1;33m(\u001b[0m\u001b[0mclg\u001b[0m\u001b[1;33m.\u001b[0m\u001b[0mfind\u001b[0m\u001b[1;33m(\u001b[0m\u001b[1;34m'S'\u001b[0m\u001b[1;33m)\u001b[0m\u001b[1;33m)\u001b[0m \u001b[1;31m#\u001b[0m\u001b[1;33m\u001b[0m\u001b[1;33m\u001b[0m\u001b[0m\n\u001b[1;32m----> 9\u001b[1;33m \u001b[0mprint\u001b[0m\u001b[1;33m(\u001b[0m\u001b[0mclg\u001b[0m\u001b[1;33m.\u001b[0m\u001b[0mindex\u001b[0m\u001b[1;33m(\u001b[0m\u001b[1;34m'S'\u001b[0m\u001b[1;33m)\u001b[0m\u001b[1;33m)\u001b[0m\u001b[1;33m\u001b[0m\u001b[1;33m\u001b[0m\u001b[0m\n\u001b[0m",
      "\u001b[1;31mValueError\u001b[0m: substring not found"
     ]
    }
   ],
   "source": [
    "#read str data from user\n",
    "clg=input(\"your college name:\")\n",
    "#Geethanjali Institute of Science and Techonlogy\n",
    "# apply all the str methods\n",
    "print(clg.startswith('G'))\n",
    "print(clg.endswith('y'))\n",
    "print(clg.count('t')) # frequency of t-->no.of occurences of t in clg\n",
    "print(clg.find('S')) # \n",
    "print(clg.index('S'))"
   ]
  },
  {
   "cell_type": "markdown",
   "id": "6c271bce",
   "metadata": {},
   "source": [
    "##### if you search for non-existed substring of the str\n",
    "- find will give -1 value\n",
    "- index will raise the Value Error"
   ]
  },
  {
   "cell_type": "code",
   "execution_count": 9,
   "id": "657af62e",
   "metadata": {
    "collapsed": true
   },
   "outputs": [
    {
     "name": "stdout",
     "output_type": "stream",
     "text": [
      "Enter the string:GIST Located at NELLORe district\n",
      "GIST Locatad at NELLORa district\n",
      "Gist located at nellore district\n",
      "Gist Located At Nellore District\n",
      "gist lOCATED AT nellorE DISTRICT\n",
      "gist located at nellore district\n",
      "gist located at nellore district\n",
      "GIST LOCATED AT NELLORE DISTRICT\n"
     ]
    },
    {
     "data": {
      "text/plain": [
       "'GIST Located at NELLORe district'"
      ]
     },
     "execution_count": 9,
     "metadata": {},
     "output_type": "execute_result"
    }
   ],
   "source": [
    "#replace,capitalize,title,swapcase,casefold,lower,upper\n",
    "new=input(\"Enter the string:\") # Nellore District\n",
    "print(new.replace('e','a'))\n",
    "print(new.capitalize()) # capitalizes the first char only of str\n",
    "print(new.title()) # capitalizes the first char of each word in str\n",
    "print(new.swapcase())\n",
    "print(new.casefold())\n",
    "print(new.lower())\n",
    "print(new.upper())\n",
    "new"
   ]
  },
  {
   "cell_type": "code",
   "execution_count": 12,
   "id": "01c8ee08",
   "metadata": {
    "collapsed": true
   },
   "outputs": [
    {
     "name": "stdout",
     "output_type": "stream",
     "text": [
      "enter the words:hello mom hi madam hey dad how are you all?\n",
      "mom\n",
      "madam\n",
      "dad\n"
     ]
    }
   ],
   "source": [
    "#working with string methods using functions\n",
    "#madam,dad,mom=palindromes\n",
    "def str_palindrome(st):\n",
    "    if st==st[::-1]:\n",
    "        return True\n",
    "    else:\n",
    "        return False\n",
    "    \n",
    "words=input(\"enter the words:\").split() # space separated words\n",
    "for word in words:\n",
    "    if str_palindrome(word):\n",
    "        print(word)"
   ]
  },
  {
   "cell_type": "code",
   "execution_count": 13,
   "id": "bf379bb0",
   "metadata": {
    "collapsed": true
   },
   "outputs": [
    {
     "name": "stdout",
     "output_type": "stream",
     "text": [
      "True\n",
      "False\n",
      "True\n"
     ]
    }
   ],
   "source": [
    "print(str_palindrome(\"madam\"))\n",
    "print(str_palindrome(\"hello\"))\n",
    "print(str_palindrome(\"mom\"))"
   ]
  },
  {
   "cell_type": "markdown",
   "id": "c097fd67",
   "metadata": {},
   "source": [
    "#### string traversal using index\n",
    "- index is the notation of data item in the memory\n",
    "- n length of string=student=7 length str\n",
    "    - index is of 2types\n",
    "        - formal indexing\n",
    "            - 2types of representations\n",
    "                - +Ve indexing\n",
    "                    - travers from left to right of the iterable\n",
    "                    - starts from 0 to len(iterable)-1\n",
    "                    - default indexing\n",
    "                - -ve indexing\n",
    "                    - starts from -1 to -infinite\n",
    "                    - travers from right to left\n",
    "        - fancy indexing\n",
    "        "
   ]
  },
  {
   "cell_type": "code",
   "execution_count": 16,
   "id": "68d92f38",
   "metadata": {
    "collapsed": true
   },
   "outputs": [
    {
     "name": "stdout",
     "output_type": "stream",
     "text": [
      "S\n"
     ]
    },
    {
     "data": {
      "text/plain": [
       "'d'"
      ]
     },
     "execution_count": 16,
     "metadata": {},
     "output_type": "execute_result"
    }
   ],
   "source": [
    "word=\"Student\"\n",
    "''' S t u d e n t\n",
    "    =============\n",
    "    0 1 2 3 4 5 6 '''\n",
    "\n",
    "#each char of str\n",
    "print(word[0]) # 1st char\n",
    "word[3]#"
   ]
  },
  {
   "cell_type": "code",
   "execution_count": 17,
   "id": "89878b6b",
   "metadata": {
    "collapsed": true
   },
   "outputs": [
    {
     "data": {
      "text/plain": [
       "'t'"
      ]
     },
     "execution_count": 17,
     "metadata": {},
     "output_type": "execute_result"
    }
   ],
   "source": [
    "#Student\n",
    "word[-1]"
   ]
  },
  {
   "cell_type": "code",
   "execution_count": 18,
   "id": "8f6908cf",
   "metadata": {
    "collapsed": true
   },
   "outputs": [
    {
     "data": {
      "text/plain": [
       "'n'"
      ]
     },
     "execution_count": 18,
     "metadata": {},
     "output_type": "execute_result"
    }
   ],
   "source": [
    "word[-2]# last but one char"
   ]
  },
  {
   "cell_type": "code",
   "execution_count": 19,
   "id": "f9c93675",
   "metadata": {
    "collapsed": true
   },
   "outputs": [
    {
     "data": {
      "text/plain": [
       "'e'"
      ]
     },
     "execution_count": 19,
     "metadata": {},
     "output_type": "execute_result"
    }
   ],
   "source": [
    "word[-3]# last but two cahr"
   ]
  },
  {
   "cell_type": "code",
   "execution_count": 22,
   "id": "8d75eb3b",
   "metadata": {
    "collapsed": true
   },
   "outputs": [
    {
     "data": {
      "text/plain": [
       "'S'"
      ]
     },
     "execution_count": 22,
     "metadata": {},
     "output_type": "execute_result"
    }
   ],
   "source": [
    "word[-7]# 7th char from last"
   ]
  },
  {
   "cell_type": "code",
   "execution_count": 27,
   "id": "22872514",
   "metadata": {},
   "outputs": [
    {
     "data": {
      "text/plain": [
       "('h', 'o')"
      ]
     },
     "execution_count": 27,
     "metadata": {},
     "output_type": "execute_result"
    }
   ],
   "source": [
    "# slicing\n",
    "#- a piece/portion of the thing\n",
    "#- extarcting the substring/some part of the entire string using index\n",
    "line=\"hi madam hello mom hey dad how are you all?\"\n",
    "line[9],line[13]"
   ]
  },
  {
   "cell_type": "code",
   "execution_count": 29,
   "id": "aace846f",
   "metadata": {
    "collapsed": true
   },
   "outputs": [
    {
     "data": {
      "text/plain": [
       "'hello'"
      ]
     },
     "execution_count": 29,
     "metadata": {},
     "output_type": "execute_result"
    }
   ],
   "source": [
    "#extarct hello from the line\n",
    "line[9:14]\n"
   ]
  },
  {
   "cell_type": "code",
   "execution_count": 32,
   "id": "9bb458a3",
   "metadata": {
    "collapsed": true
   },
   "outputs": [
    {
     "data": {
      "text/plain": [
       "'dad'"
      ]
     },
     "execution_count": 32,
     "metadata": {},
     "output_type": "execute_result"
    }
   ],
   "source": [
    "#dad\n",
    "line[23:26]"
   ]
  },
  {
   "cell_type": "code",
   "execution_count": 33,
   "id": "295050f6",
   "metadata": {},
   "outputs": [
    {
     "data": {
      "text/plain": [
       "''"
      ]
     },
     "execution_count": 33,
     "metadata": {},
     "output_type": "execute_result"
    }
   ],
   "source": [
    "#slicing in reverse order:you:y o u--> u\n",
    "line[-5:-7] # line[-7:-5]"
   ]
  },
  {
   "cell_type": "code",
   "execution_count": 35,
   "id": "9a330dd1",
   "metadata": {
    "collapsed": true
   },
   "outputs": [
    {
     "data": {
      "text/plain": [
       "'you'"
      ]
     },
     "execution_count": 35,
     "metadata": {},
     "output_type": "execute_result"
    }
   ],
   "source": [
    "line[-8:-5] \n",
    "# you should travers from left to right in reverse indexing also\n"
   ]
  },
  {
   "cell_type": "code",
   "execution_count": 37,
   "id": "edd38568",
   "metadata": {},
   "outputs": [
    {
     "data": {
      "text/plain": [
       "'hi madam hello mom hey dad how are you all?'"
      ]
     },
     "execution_count": 37,
     "metadata": {},
     "output_type": "execute_result"
    }
   ],
   "source": [
    "#[::step_count]-->line\n",
    "#alternate chars in the given string\n",
    "line[::]"
   ]
  },
  {
   "cell_type": "code",
   "execution_count": 38,
   "id": "3adc0ae0",
   "metadata": {},
   "outputs": [
    {
     "data": {
      "text/plain": [
       "'hi madam hello mom hey dad how are you all?'"
      ]
     },
     "execution_count": 38,
     "metadata": {},
     "output_type": "execute_result"
    }
   ],
   "source": [
    "line[:]"
   ]
  },
  {
   "cell_type": "code",
   "execution_count": 40,
   "id": "dd020c05",
   "metadata": {},
   "outputs": [
    {
     "data": {
      "text/plain": [
       "'h aa el o e a o r o l?'"
      ]
     },
     "execution_count": 40,
     "metadata": {},
     "output_type": "execute_result"
    }
   ],
   "source": [
    "line[::2] #alternate chars"
   ]
  },
  {
   "cell_type": "code",
   "execution_count": 41,
   "id": "d660e843",
   "metadata": {},
   "outputs": [
    {
     "data": {
      "text/plain": [
       "'?l o r o a e o le aa h'"
      ]
     },
     "execution_count": 41,
     "metadata": {},
     "output_type": "execute_result"
    }
   ],
   "source": [
    "#alternate characters in reverse\n",
    "line[::-2]"
   ]
  },
  {
   "cell_type": "markdown",
   "id": "5f2fec28",
   "metadata": {},
   "source": [
    "#### Data Structures in python\n",
    "- Way of organizing the data in a specific format is called data structure\n",
    "- 4 data structures \n",
    "    1. tuple\n",
    "        - It is one of the data structures of python used to store different data items at a time\n",
    "        - It is represented by paranthesis ()\n",
    "        - tuple() is the pre defined function\n",
    "        - it is immutable in nature\n",
    "        - **tuple methods**\n",
    "            - count()\n",
    "            - index()\n",
    "    2. list\n",
    "        - One of the most important data structures of python used to store different data items at a time\n",
    "        - It is represented by []\n",
    "        - list() is the pre defined function\n",
    "        - It is mutable in nature\n",
    "        - **list methods**\n",
    "            - append(new)\n",
    "                - that adds new data item at the end of the list or new data structure\n",
    "            - insert(pos,new)\n",
    "                - adds the new data at the specified index\n",
    "            - index(value/data item)\n",
    "                - index value of the perticular data item\n",
    "            - extend()\n",
    "                - it expands the existed list\n",
    "            - copy()\n",
    "                - copies the list of items\n",
    "            - clear()\n",
    "                - delete the elements from the list\n",
    "            - pop()\n",
    "                - deletes the last item by default from the list and returns that element\n",
    "            - pop(index)\n",
    "                - element will be deleted at the index you mentioned\n",
    "            - remove(\"data\")\n",
    "                - specific data/element will be removed\n",
    "            - sort()\n",
    "                - arranges the list in ascending order of items\n",
    "            - reverse()\n",
    "                - reverse the order of list\n",
    "            \n",
    "    3. set and\n",
    "        - a set is a well defined collection of objects\n",
    "        - set is mutable in nature and avoids duplication of objects/elements/data items\n",
    "        - set() is the predefined function\n",
    "        - it is represented by {}\n",
    "        - there is no index/slicing in the set\n",
    "        - **set methods**\n",
    "            - union\n",
    "            - intersection\n",
    "            - disjoint\n",
    "            - difference\n",
    "            - subset\n",
    "            - superset\n",
    "            - symmetric_difference\n",
    "            - update\n",
    "            - add\n",
    "            - copy\n",
    "            - clear\n",
    "            - discard\n",
    "            - pop\n",
    "    4. dictionary\n",
    "        - It is a paired data structure contains key & value\n",
    "        - It is represented by {key:value}\n",
    "        - dict() is the predefined function\n",
    "        - Dictionary (Physical) mechanism\n",
    "        - word:meaning -->key:value\n",
    "        - **Features of key**\n",
    "            - key is like index of the value\n",
    "            - key should be unique\n",
    "            - key can be any datatype\n",
    "        - **Features of values**\n",
    "            - data is stored in values\n",
    "            - value can be any datatype or data structures\n",
    "            - value might be similar\n",
    "            \n",
    "        - **Dict methods**\n",
    "        "
   ]
  },
  {
   "cell_type": "code",
   "execution_count": 49,
   "id": "2567bd96",
   "metadata": {},
   "outputs": [
    {
     "name": "stdout",
     "output_type": "stream",
     "text": [
      "(12, 'hello', '0b1010', True, 9.5, (3+4j), 12, 'hey', 34, 'hey', 12, 34, 12, 56)\n"
     ]
    }
   ],
   "source": [
    "#create the tuple\n",
    "t=tuple()\n",
    "t2=(12,'hello',bin(10),True,9.5,3+4j,12,'hey',34,'hey',12,34,12,56)\n",
    "print(t2)"
   ]
  },
  {
   "cell_type": "code",
   "execution_count": 50,
   "id": "a35a6270",
   "metadata": {},
   "outputs": [
    {
     "data": {
      "text/plain": [
       "('frequency of 12=', 4)"
      ]
     },
     "execution_count": 50,
     "metadata": {},
     "output_type": "execute_result"
    }
   ],
   "source": [
    "#count,index\n",
    "\"frequency of 12=\",t2.count(12)"
   ]
  },
  {
   "cell_type": "code",
   "execution_count": 48,
   "id": "69a27bab",
   "metadata": {
    "collapsed": true
   },
   "outputs": [
    {
     "name": "stdout",
     "output_type": "stream",
     "text": [
      "7\n"
     ]
    }
   ],
   "source": [
    "#index\n",
    "print(t2.index('hey'))"
   ]
  },
  {
   "cell_type": "code",
   "execution_count": 51,
   "id": "cada4699",
   "metadata": {
    "collapsed": true
   },
   "outputs": [
    {
     "name": "stdout",
     "output_type": "stream",
     "text": [
      "8\n"
     ]
    }
   ],
   "source": [
    "#find the index of repeated data item\n",
    "print(t2.index(34))"
   ]
  },
  {
   "cell_type": "code",
   "execution_count": 52,
   "id": "b4775e02",
   "metadata": {
    "collapsed": true
   },
   "outputs": [
    {
     "name": "stdout",
     "output_type": "stream",
     "text": [
      "12\n",
      "hello\n",
      "0b1010\n",
      "True\n",
      "9.5\n",
      "(3+4j)\n",
      "12\n",
      "hey\n",
      "34\n",
      "hey\n",
      "12\n",
      "34\n",
      "12\n",
      "56\n"
     ]
    }
   ],
   "source": [
    "#iteration of tuple\n",
    "for item in t2:\n",
    "    print(item)"
   ]
  },
  {
   "cell_type": "code",
   "execution_count": 53,
   "id": "fe3efe1c",
   "metadata": {
    "collapsed": true
   },
   "outputs": [
    {
     "name": "stdout",
     "output_type": "stream",
     "text": [
      "['__add__', '__class__', '__class_getitem__', '__contains__', '__delattr__', '__dir__', '__doc__', '__eq__', '__format__', '__ge__', '__getattribute__', '__getitem__', '__getnewargs__', '__gt__', '__hash__', '__init__', '__init_subclass__', '__iter__', '__le__', '__len__', '__lt__', '__mul__', '__ne__', '__new__', '__reduce__', '__reduce_ex__', '__repr__', '__rmul__', '__setattr__', '__sizeof__', '__str__', '__subclasshook__', 'count', 'index']\n"
     ]
    }
   ],
   "source": [
    "#if the user wants to add new item to the existed tuple->no posibility\n",
    "print(dir(tuple))"
   ]
  },
  {
   "cell_type": "code",
   "execution_count": 54,
   "id": "1ff54346",
   "metadata": {},
   "outputs": [
    {
     "name": "stdout",
     "output_type": "stream",
     "text": [
      "[]\n"
     ]
    }
   ],
   "source": [
    "l=list() # list initialization\n",
    "print(l)"
   ]
  },
  {
   "cell_type": "code",
   "execution_count": 55,
   "id": "88792123",
   "metadata": {},
   "outputs": [
    {
     "name": "stdout",
     "output_type": "stream",
     "text": [
      "[1, 2, 3, 4, 5, 6, 7, 8, 9, 10, 11, 12, 13, 14, 15, 16, 17, 18, 19]\n"
     ]
    }
   ],
   "source": [
    "# creating the list using range\n",
    "li=list(range(1,20))\n",
    "print(li)"
   ]
  },
  {
   "cell_type": "code",
   "execution_count": 60,
   "id": "70c1f791",
   "metadata": {
    "collapsed": true
   },
   "outputs": [
    {
     "name": "stdout",
     "output_type": "stream",
     "text": [
      "i am 123 456 890 and 908\n",
      "['i', 'am', '123', '456', '890', 'and', '908']\n",
      "123\n",
      "456\n",
      "890\n",
      "908\n"
     ]
    }
   ],
   "source": [
    "#creating the list from the user/keyboard\n",
    "# print the integers persent in the list\n",
    "user=input().split()\n",
    "print(user)\n",
    "for item in user:\n",
    "    if item.isdigit():\n",
    "        print(item)"
   ]
  },
  {
   "cell_type": "code",
   "execution_count": 61,
   "id": "fa29fc52",
   "metadata": {
    "collapsed": true
   },
   "outputs": [
    {
     "name": "stdout",
     "output_type": "stream",
     "text": [
      "(9+3j)\n",
      "(2+3j)\n"
     ]
    }
   ],
   "source": [
    "#print the complex no.s from the following list\n",
    "li2=[9+3j,90,56,78,'hi',2+3j,'hello',True]\n",
    "for item in li2:\n",
    "    if type(item)==complex: # float/str/int/bool/bin\n",
    "        print(item)"
   ]
  },
  {
   "cell_type": "code",
   "execution_count": 62,
   "id": "c0d815ab",
   "metadata": {},
   "outputs": [],
   "source": [
    "# list methods\n",
    "li2.append('new')"
   ]
  },
  {
   "cell_type": "code",
   "execution_count": 65,
   "id": "98f2196d",
   "metadata": {},
   "outputs": [
    {
     "data": {
      "text/plain": [
       "[(9+3j), 90, 56, 78, 'hi', (2+3j), 'hello', True, 'new', 'hello']"
      ]
     },
     "execution_count": 65,
     "metadata": {},
     "output_type": "execute_result"
    }
   ],
   "source": [
    "li2.append(\"hello\")\n",
    "li2"
   ]
  },
  {
   "cell_type": "code",
   "execution_count": 66,
   "id": "31d55988",
   "metadata": {},
   "outputs": [
    {
     "name": "stdout",
     "output_type": "stream",
     "text": [
      "[(9+3j), 90, 56, 78, 'hi', (2+3j), 'hello', True, 'new', 'hello', [1, 2, 3, 4]]\n"
     ]
    }
   ],
   "source": [
    "li2.append([1,2,3,4])\n",
    "print(li2)"
   ]
  },
  {
   "cell_type": "code",
   "execution_count": 68,
   "id": "751f6e60",
   "metadata": {},
   "outputs": [],
   "source": [
    "li2.insert(4,'ap')"
   ]
  },
  {
   "cell_type": "code",
   "execution_count": 70,
   "id": "9cb27e13",
   "metadata": {
    "collapsed": true
   },
   "outputs": [
    {
     "name": "stdout",
     "output_type": "stream",
     "text": [
      "[(9+3j), 90, 56, 78, 'ap', 'hi', (2+3j), 'hello', True, 'new', 'hello', [1, 2, 3, 4]]\n"
     ]
    }
   ],
   "source": [
    "print(li2)"
   ]
  },
  {
   "cell_type": "code",
   "execution_count": 71,
   "id": "b9ddae31",
   "metadata": {},
   "outputs": [
    {
     "data": {
      "text/plain": [
       "3"
      ]
     },
     "execution_count": 71,
     "metadata": {},
     "output_type": "execute_result"
    }
   ],
   "source": [
    "li2.index(78)"
   ]
  },
  {
   "cell_type": "code",
   "execution_count": 72,
   "id": "548f071b",
   "metadata": {},
   "outputs": [
    {
     "name": "stdout",
     "output_type": "stream",
     "text": [
      "5\n"
     ]
    }
   ],
   "source": [
    "new=[2,3,4,5,2,3,4,5,8,9,22,2,2,2,3,10]\n",
    "print(new.count(2))"
   ]
  },
  {
   "cell_type": "code",
   "execution_count": 73,
   "id": "729cf982",
   "metadata": {},
   "outputs": [
    {
     "name": "stdout",
     "output_type": "stream",
     "text": [
      "[2, 3, 4, 5, 2, 3, 4, 5, 8, 9, 22, 2, 2, 2, 3, 10]\n"
     ]
    }
   ],
   "source": [
    "n=new.copy()\n",
    "print(n)"
   ]
  },
  {
   "cell_type": "code",
   "execution_count": 74,
   "id": "7e79d6bb",
   "metadata": {},
   "outputs": [
    {
     "name": "stdout",
     "output_type": "stream",
     "text": [
      "[2, 3, 4, 5, 2, 3, 4, 5, 8, 9, 22, 2, 2, 2, 3, 10, 9, 8, 7, 6]\n"
     ]
    }
   ],
   "source": [
    "n.extend([9,8,7,6])\n",
    "print(n)"
   ]
  },
  {
   "cell_type": "code",
   "execution_count": 77,
   "id": "7eec5b8c",
   "metadata": {},
   "outputs": [
    {
     "data": {
      "text/plain": [
       "7"
      ]
     },
     "execution_count": 77,
     "metadata": {},
     "output_type": "execute_result"
    }
   ],
   "source": [
    "n.pop()"
   ]
  },
  {
   "cell_type": "code",
   "execution_count": 78,
   "id": "aa770ab9",
   "metadata": {},
   "outputs": [
    {
     "name": "stdout",
     "output_type": "stream",
     "text": [
      "[2, 3, 4, 5, 2, 3, 4, 5, 8, 9, 22, 2, 2, 2, 3, 10, 9, 8]\n"
     ]
    }
   ],
   "source": [
    "print(n)"
   ]
  },
  {
   "cell_type": "code",
   "execution_count": 79,
   "id": "2ca0e79d",
   "metadata": {},
   "outputs": [
    {
     "data": {
      "text/plain": [
       "22"
      ]
     },
     "execution_count": 79,
     "metadata": {},
     "output_type": "execute_result"
    }
   ],
   "source": [
    "n.pop(10) # value at index 10"
   ]
  },
  {
   "cell_type": "code",
   "execution_count": 80,
   "id": "9d7c1e9e",
   "metadata": {},
   "outputs": [
    {
     "data": {
      "text/plain": [
       "[2, 3, 4, 5, 2, 3, 4, 5, 8, 9, 2, 2, 2, 3, 10, 9, 8]"
      ]
     },
     "execution_count": 80,
     "metadata": {},
     "output_type": "execute_result"
    }
   ],
   "source": [
    "n"
   ]
  },
  {
   "cell_type": "code",
   "execution_count": 83,
   "id": "47f240dc",
   "metadata": {},
   "outputs": [],
   "source": [
    "li2.remove('ap')"
   ]
  },
  {
   "cell_type": "code",
   "execution_count": 84,
   "id": "435e7f9e",
   "metadata": {},
   "outputs": [
    {
     "name": "stdout",
     "output_type": "stream",
     "text": [
      "[(9+3j), 90, 56, 78, 'hi', (2+3j), 'hello', True, 'new', 'hello', [1, 2, 3, 4]]\n"
     ]
    }
   ],
   "source": [
    "print(li2)"
   ]
  },
  {
   "cell_type": "code",
   "execution_count": 85,
   "id": "6a43ce91",
   "metadata": {
    "collapsed": true
   },
   "outputs": [
    {
     "name": "stdout",
     "output_type": "stream",
     "text": [
      "[(9+3j), 90, 56, 78, 'hi', (2+3j), 'hello', True, 'hello', [1, 2, 3, 4]]\n"
     ]
    }
   ],
   "source": [
    "li2.remove('new')\n",
    "print(li2)"
   ]
  },
  {
   "cell_type": "code",
   "execution_count": 86,
   "id": "33ae829c",
   "metadata": {},
   "outputs": [
    {
     "name": "stdout",
     "output_type": "stream",
     "text": [
      "[89, 34, 56, 78, 10, 34, 56, 90, 87, 23, 10, 90, 34, 56]\n"
     ]
    }
   ],
   "source": [
    "#sort the list\n",
    "man=[89,34,56,78,10,34,56,90,87,23,10,90,34,56]\n",
    "print(man)"
   ]
  },
  {
   "cell_type": "code",
   "execution_count": 87,
   "id": "d8d0d92b",
   "metadata": {
    "collapsed": true
   },
   "outputs": [
    {
     "name": "stdout",
     "output_type": "stream",
     "text": [
      "[10, 10, 23, 34, 34, 34, 56, 56, 56, 78, 87, 89, 90, 90]\n",
      "None\n",
      "None\n"
     ]
    }
   ],
   "source": [
    "print(sorted(man)) #sort\n",
    "print(man.sort())\n",
    "print(man.reverse())"
   ]
  },
  {
   "cell_type": "code",
   "execution_count": 88,
   "id": "272d764b",
   "metadata": {
    "collapsed": true
   },
   "outputs": [
    {
     "name": "stdout",
     "output_type": "stream",
     "text": [
      "Help on built-in function sort:\n",
      "\n",
      "sort(*, key=None, reverse=False) method of builtins.list instance\n",
      "    Sort the list in ascending order and return None.\n",
      "    \n",
      "    The sort is in-place (i.e. the list itself is modified) and stable (i.e. the\n",
      "    order of two equal elements is maintained).\n",
      "    \n",
      "    If a key function is given, apply it once to each list item and sort them,\n",
      "    ascending or descending, according to their function values.\n",
      "    \n",
      "    The reverse flag can be set to sort in descending order.\n",
      "\n"
     ]
    }
   ],
   "source": [
    "help(man.sort)"
   ]
  },
  {
   "cell_type": "code",
   "execution_count": 93,
   "id": "b8fc2282",
   "metadata": {
    "collapsed": true
   },
   "outputs": [
    {
     "name": "stdout",
     "output_type": "stream",
     "text": [
      "total no.of list items= 14\n",
      "min value= 10\n",
      "max value= 90\n",
      "sum of the list= 747\n"
     ]
    }
   ],
   "source": [
    "print(\"total no.of list items=\",len(man))\n",
    "print(\"min value=\",min(man))\n",
    "print(\"max value=\",max(man))\n",
    "print(\"sum of the list=\",sum(man))\n"
   ]
  },
  {
   "cell_type": "code",
   "execution_count": 94,
   "id": "7f3d9b8e",
   "metadata": {},
   "outputs": [],
   "source": [
    "# write a python program to print the vowels present in the str\n",
    "# write a python program to print sum of the middle digits of the list\n",
    "# write a python program to find the unique list of elements(if duplicates exist)\n"
   ]
  },
  {
   "cell_type": "code",
   "execution_count": 95,
   "id": "34d72cfd",
   "metadata": {},
   "outputs": [
    {
     "name": "stdout",
     "output_type": "stream",
     "text": [
      "enter the word:working WITH VoweLS using STRING methods\n",
      "o i I o e i I e o "
     ]
    }
   ],
   "source": [
    "#printing vowels\n",
    "word=input(\"enter the word:\")\n",
    "#a,e,i,o,u,A,E,I,O,U\n",
    "for ch in word:\n",
    "    if ch=='a' or ch=='e' or ch=='i' or ch=='o' or ch=='e' or ch=='A' or ch=='E' or ch=='I' or ch=='O' or ch=='U':\n",
    "        print(ch,end=\" \")\n"
   ]
  },
  {
   "cell_type": "code",
   "execution_count": 105,
   "id": "438c9996",
   "metadata": {
    "collapsed": true
   },
   "outputs": [
    {
     "name": "stdout",
     "output_type": "stream",
     "text": [
      "Enter the string:WORKing with String METhods usING Vowels TUPLES\n",
      "O i i i E o u I o e U E \n",
      "lower case vowels are:i i i o u o e \n",
      "upper case vowels are :O E I U E "
     ]
    }
   ],
   "source": [
    "words=input(\"Enter the string:\")\n",
    "vowels=\"aeiouAEIOU\"\n",
    "\n",
    "for ch in words:\n",
    "    if ch in vowels:\n",
    "        print(ch,end=\" \")\n",
    "print()\n",
    "print(\"lower case vowels are\",end=\":\")\n",
    "for ch in words:\n",
    "    if ch in vowels:\n",
    "        if ch.islower():\n",
    "            print(ch,end=\" \")\n",
    "print(\"\\nupper case vowels are \",end=\":\")\n",
    "for ch in words:\n",
    "    if ch in vowels:\n",
    "        if ch.isupper():\n",
    "            print(ch,end=\" \")"
   ]
  },
  {
   "cell_type": "code",
   "execution_count": 106,
   "id": "7cc81a28",
   "metadata": {
    "collapsed": true
   },
   "outputs": [
    {
     "name": "stdout",
     "output_type": "stream",
     "text": [
      "123 456 890 hi\n"
     ]
    },
    {
     "data": {
      "text/plain": [
       "['123', '456', '890', 'hi']"
      ]
     },
     "execution_count": 106,
     "metadata": {},
     "output_type": "execute_result"
    }
   ],
   "source": [
    "# Day4 Task\n",
    "#write a python program to read n space separated 3 digit values from the user\n",
    "#and find the sum of middle digits in it\n"
   ]
  },
  {
   "cell_type": "code",
   "execution_count": 112,
   "id": "10959c64",
   "metadata": {},
   "outputs": [
    {
     "data": {
      "text/plain": [
       "43"
      ]
     },
     "execution_count": 112,
     "metadata": {},
     "output_type": "execute_result"
    }
   ],
   "source": [
    "nums=[123,456,789,987,345,673,290]\n",
    "# sum of the middle digits of each value in the list\n",
    "#2+5+8+8+4+7+9=43\n",
    "total=0\n",
    "li=[]\n",
    "for num in nums:\n",
    "    li.append(str(num))\n",
    "for v in li:\n",
    "    total+=int(v[1])\n",
    "total"
   ]
  },
  {
   "cell_type": "code",
   "execution_count": 116,
   "id": "be884cae",
   "metadata": {
    "collapsed": true
   },
   "outputs": [
    {
     "name": "stdout",
     "output_type": "stream",
     "text": [
      "56\n",
      "78\n",
      "7\n",
      "1\n",
      "20\n",
      "\n",
      "[23, 56, 78, 45, 9, 8, 7, 1, 20]\n"
     ]
    }
   ],
   "source": [
    "#list of duplicates\n",
    "dup=[23,56,78,23,45,9,8,7,23,45,9,8,1,20]\n",
    "for i in dup:\n",
    "    if dup.count(i)==1: # values,some values ignored\n",
    "        print(i)\n",
    "print()\n",
    "unq=[]\n",
    "for v in dup:\n",
    "    if v not in unq:\n",
    "        unq.append(v)\n",
    "print(unq)"
   ]
  },
  {
   "cell_type": "code",
   "execution_count": 117,
   "id": "20472db2",
   "metadata": {},
   "outputs": [
    {
     "data": {
      "text/plain": [
       "[23, 56, 78, 23, 45, 9, 8, 7, 23, 45, 9, 8, 1, 20]"
      ]
     },
     "execution_count": 117,
     "metadata": {},
     "output_type": "execute_result"
    }
   ],
   "source": [
    "dup"
   ]
  },
  {
   "cell_type": "code",
   "execution_count": 118,
   "id": "75d037c6",
   "metadata": {},
   "outputs": [
    {
     "data": {
      "text/plain": [
       "{1, 7, 8, 9, 20, 23, 45, 56, 78}"
      ]
     },
     "execution_count": 118,
     "metadata": {},
     "output_type": "execute_result"
    }
   ],
   "source": [
    "set(dup)"
   ]
  },
  {
   "cell_type": "code",
   "execution_count": 119,
   "id": "123f16cd",
   "metadata": {
    "collapsed": true
   },
   "outputs": [
    {
     "name": "stdout",
     "output_type": "stream",
     "text": [
      "['__and__', '__class__', '__class_getitem__', '__contains__', '__delattr__', '__dir__', '__doc__', '__eq__', '__format__', '__ge__', '__getattribute__', '__gt__', '__hash__', '__iand__', '__init__', '__init_subclass__', '__ior__', '__isub__', '__iter__', '__ixor__', '__le__', '__len__', '__lt__', '__ne__', '__new__', '__or__', '__rand__', '__reduce__', '__reduce_ex__', '__repr__', '__ror__', '__rsub__', '__rxor__', '__setattr__', '__sizeof__', '__str__', '__sub__', '__subclasshook__', '__xor__', 'add', 'clear', 'copy', 'difference', 'difference_update', 'discard', 'intersection', 'intersection_update', 'isdisjoint', 'issubset', 'issuperset', 'pop', 'remove', 'symmetric_difference', 'symmetric_difference_update', 'union', 'update']\n"
     ]
    }
   ],
   "source": [
    "print(dir(set))"
   ]
  },
  {
   "cell_type": "code",
   "execution_count": 123,
   "id": "4fef4ce4",
   "metadata": {},
   "outputs": [
    {
     "name": "stdout",
     "output_type": "stream",
     "text": [
      "{34, 67, 4, 5, 7, 12, 45, 19, 87, 23, 89, 90, 59}\n",
      "{34, 7, 8, 12, 45, 78, 23, 87, 56, 90, 94}\n"
     ]
    }
   ],
   "source": [
    "A={90,45,67,12,34,90,45,67,45,87,23,7,4,5,19,59,34,23,89}\n",
    "print(A)\n",
    "B={34,56,78,90,23,45,78,94,23,87,90,34,45,23,8,7,12}\n",
    "print(B)"
   ]
  },
  {
   "cell_type": "code",
   "execution_count": 121,
   "id": "69127ec0",
   "metadata": {
    "collapsed": true
   },
   "outputs": [
    {
     "ename": "TypeError",
     "evalue": "'set' object is not subscriptable",
     "output_type": "error",
     "traceback": [
      "\u001b[1;31m---------------------------------------------------------------------------\u001b[0m",
      "\u001b[1;31mTypeError\u001b[0m                                 Traceback (most recent call last)",
      "\u001b[1;32m~\\AppData\\Local\\Temp\\ipykernel_21048\\303350297.py\u001b[0m in \u001b[0;36m<module>\u001b[1;34m\u001b[0m\n\u001b[1;32m----> 1\u001b[1;33m \u001b[0mA\u001b[0m\u001b[1;33m[\u001b[0m\u001b[1;36m0\u001b[0m\u001b[1;33m]\u001b[0m\u001b[1;33m\u001b[0m\u001b[1;33m\u001b[0m\u001b[0m\n\u001b[0m",
      "\u001b[1;31mTypeError\u001b[0m: 'set' object is not subscriptable"
     ]
    }
   ],
   "source": [
    "A[0]"
   ]
  },
  {
   "cell_type": "code",
   "execution_count": 124,
   "id": "52f91f83",
   "metadata": {
    "collapsed": true
   },
   "outputs": [
    {
     "data": {
      "text/plain": [
       "{7, 12, 23, 34, 45, 87, 90}"
      ]
     },
     "execution_count": 124,
     "metadata": {},
     "output_type": "execute_result"
    }
   ],
   "source": [
    "A.intersection(B) # common elements of both sets"
   ]
  },
  {
   "cell_type": "code",
   "execution_count": 125,
   "id": "66445625",
   "metadata": {
    "collapsed": true
   },
   "outputs": [
    {
     "data": {
      "text/plain": [
       "{4, 5, 7, 8, 12, 19, 23, 34, 45, 56, 59, 67, 78, 87, 89, 90, 94}"
      ]
     },
     "execution_count": 125,
     "metadata": {},
     "output_type": "execute_result"
    }
   ],
   "source": [
    "A.union(B) # combination of both sets"
   ]
  },
  {
   "cell_type": "code",
   "execution_count": 127,
   "id": "04864407",
   "metadata": {
    "collapsed": true
   },
   "outputs": [
    {
     "data": {
      "text/plain": [
       "{4, 5, 19, 59, 67, 89}"
      ]
     },
     "execution_count": 127,
     "metadata": {},
     "output_type": "execute_result"
    }
   ],
   "source": [
    "A.difference(B) #A-B"
   ]
  },
  {
   "cell_type": "code",
   "execution_count": 129,
   "id": "4003f2fc",
   "metadata": {
    "collapsed": true
   },
   "outputs": [
    {
     "data": {
      "text/plain": [
       "{4, 5, 19, 59, 67, 89}"
      ]
     },
     "execution_count": 129,
     "metadata": {},
     "output_type": "execute_result"
    }
   ],
   "source": [
    "A-B # deletes the elements of B present in A"
   ]
  },
  {
   "cell_type": "code",
   "execution_count": 130,
   "id": "f87745ae",
   "metadata": {
    "collapsed": true
   },
   "outputs": [
    {
     "data": {
      "text/plain": [
       "False"
      ]
     },
     "execution_count": 130,
     "metadata": {},
     "output_type": "execute_result"
    }
   ],
   "source": [
    "B.issubset(A)"
   ]
  },
  {
   "cell_type": "code",
   "execution_count": 131,
   "id": "ae454bf0",
   "metadata": {
    "collapsed": true
   },
   "outputs": [
    {
     "data": {
      "text/plain": [
       "False"
      ]
     },
     "execution_count": 131,
     "metadata": {},
     "output_type": "execute_result"
    }
   ],
   "source": [
    "A.issuperset(B)"
   ]
  },
  {
   "cell_type": "code",
   "execution_count": 132,
   "id": "0e89e97e",
   "metadata": {
    "collapsed": true
   },
   "outputs": [
    {
     "data": {
      "text/plain": [
       "True"
      ]
     },
     "execution_count": 132,
     "metadata": {},
     "output_type": "execute_result"
    }
   ],
   "source": [
    "#disjont-->not connected->no common elements\n",
    "C={3,4,5,6,1}\n",
    "D={9,8,7,2}\n",
    "C.isdisjoint(D)"
   ]
  },
  {
   "cell_type": "code",
   "execution_count": 133,
   "id": "1c9e29f8",
   "metadata": {},
   "outputs": [
    {
     "data": {
      "text/plain": [
       "{4, 5, 8, 19, 56, 59, 67, 78, 89, 94}"
      ]
     },
     "execution_count": 133,
     "metadata": {},
     "output_type": "execute_result"
    }
   ],
   "source": [
    "#symmetric_difference\n",
    "# non-similar elements in both sets\n",
    "A.symmetric_difference(B)"
   ]
  },
  {
   "cell_type": "code",
   "execution_count": 134,
   "id": "02a2cee0",
   "metadata": {},
   "outputs": [
    {
     "data": {
      "text/plain": [
       "{1, 2, 3, 4, 5, 6, 7, 8, 9}"
      ]
     },
     "execution_count": 134,
     "metadata": {},
     "output_type": "execute_result"
    }
   ],
   "source": [
    "C.symmetric_difference(D)"
   ]
  },
  {
   "cell_type": "code",
   "execution_count": 135,
   "id": "6b3593c1",
   "metadata": {},
   "outputs": [],
   "source": [
    "C.add(11)"
   ]
  },
  {
   "cell_type": "code",
   "execution_count": 136,
   "id": "afa4ad07",
   "metadata": {
    "collapsed": true
   },
   "outputs": [
    {
     "data": {
      "text/plain": [
       "{1, 3, 4, 5, 6, 11}"
      ]
     },
     "execution_count": 136,
     "metadata": {},
     "output_type": "execute_result"
    }
   ],
   "source": [
    "C"
   ]
  },
  {
   "cell_type": "code",
   "execution_count": 137,
   "id": "52095751",
   "metadata": {
    "collapsed": true
   },
   "outputs": [
    {
     "data": {
      "text/plain": [
       "{1, 3, 4, 5, 6, 11, 12, 34, 56}"
      ]
     },
     "execution_count": 137,
     "metadata": {},
     "output_type": "execute_result"
    }
   ],
   "source": [
    "C.update({12,34,56})\n",
    "C"
   ]
  },
  {
   "cell_type": "code",
   "execution_count": 138,
   "id": "1f8a5dc7",
   "metadata": {
    "collapsed": true
   },
   "outputs": [
    {
     "data": {
      "text/plain": [
       "{1, 3, 4, 5, 6, 7, 11, 12, 20, 34, 56, 98}"
      ]
     },
     "execution_count": 138,
     "metadata": {},
     "output_type": "execute_result"
    }
   ],
   "source": [
    "C.update({3,98,20,7})\n",
    "C"
   ]
  },
  {
   "cell_type": "code",
   "execution_count": 139,
   "id": "728adf62",
   "metadata": {},
   "outputs": [],
   "source": [
    "C.difference_update(D) #"
   ]
  },
  {
   "cell_type": "code",
   "execution_count": 140,
   "id": "5aca3e53",
   "metadata": {
    "collapsed": true
   },
   "outputs": [
    {
     "data": {
      "text/plain": [
       "{1, 3, 4, 5, 6, 11, 12, 20, 34, 56, 98}"
      ]
     },
     "execution_count": 140,
     "metadata": {},
     "output_type": "execute_result"
    }
   ],
   "source": [
    "C"
   ]
  },
  {
   "cell_type": "code",
   "execution_count": 141,
   "id": "db950305",
   "metadata": {},
   "outputs": [],
   "source": [
    "A.intersection_update(B) # updating A with intesection(A,B)"
   ]
  },
  {
   "cell_type": "code",
   "execution_count": 142,
   "id": "8c79e8f4",
   "metadata": {},
   "outputs": [
    {
     "data": {
      "text/plain": [
       "{7, 12, 23, 34, 45, 87, 90}"
      ]
     },
     "execution_count": 142,
     "metadata": {},
     "output_type": "execute_result"
    }
   ],
   "source": [
    "A"
   ]
  },
  {
   "cell_type": "code",
   "execution_count": 143,
   "id": "a90d8ad4",
   "metadata": {
    "collapsed": true
   },
   "outputs": [
    {
     "data": {
      "text/plain": [
       "{7, 12, 23, 34, 87, 90}"
      ]
     },
     "execution_count": 143,
     "metadata": {},
     "output_type": "execute_result"
    }
   ],
   "source": [
    "A.remove(45)\n",
    "A"
   ]
  },
  {
   "cell_type": "code",
   "execution_count": 144,
   "id": "a1caefaa",
   "metadata": {},
   "outputs": [],
   "source": [
    "A.remove(12)"
   ]
  },
  {
   "cell_type": "code",
   "execution_count": 145,
   "id": "e1972af1",
   "metadata": {
    "collapsed": true
   },
   "outputs": [
    {
     "data": {
      "text/plain": [
       "{7, 23, 34, 87, 90}"
      ]
     },
     "execution_count": 145,
     "metadata": {},
     "output_type": "execute_result"
    }
   ],
   "source": [
    "A"
   ]
  },
  {
   "cell_type": "code",
   "execution_count": 146,
   "id": "faa81152",
   "metadata": {},
   "outputs": [],
   "source": [
    "A.discard(90)"
   ]
  },
  {
   "cell_type": "code",
   "execution_count": 147,
   "id": "ba180132",
   "metadata": {
    "collapsed": true
   },
   "outputs": [
    {
     "data": {
      "text/plain": [
       "{7, 23, 34, 87}"
      ]
     },
     "execution_count": 147,
     "metadata": {},
     "output_type": "execute_result"
    }
   ],
   "source": [
    "A"
   ]
  },
  {
   "cell_type": "code",
   "execution_count": 148,
   "id": "f52c70c4",
   "metadata": {},
   "outputs": [
    {
     "data": {
      "text/plain": [
       "{7, 23, 34, 87}"
      ]
     },
     "execution_count": 148,
     "metadata": {},
     "output_type": "execute_result"
    }
   ],
   "source": [
    "new=A.copy()\n",
    "new"
   ]
  },
  {
   "cell_type": "code",
   "execution_count": 149,
   "id": "3594c176",
   "metadata": {},
   "outputs": [],
   "source": [
    "A.clear()"
   ]
  },
  {
   "cell_type": "code",
   "execution_count": 150,
   "id": "a27a52b3",
   "metadata": {},
   "outputs": [
    {
     "data": {
      "text/plain": [
       "set()"
      ]
     },
     "execution_count": 150,
     "metadata": {},
     "output_type": "execute_result"
    }
   ],
   "source": [
    "A"
   ]
  },
  {
   "cell_type": "code",
   "execution_count": 151,
   "id": "950d1009",
   "metadata": {},
   "outputs": [
    {
     "name": "stdout",
     "output_type": "stream",
     "text": [
      "{}\n"
     ]
    }
   ],
   "source": [
    "d=dict()\n",
    "d2={}\n",
    "print(d)"
   ]
  },
  {
   "cell_type": "code",
   "execution_count": 154,
   "id": "67a449d0",
   "metadata": {
    "collapsed": true
   },
   "outputs": [
    {
     "name": "stdout",
     "output_type": "stream",
     "text": [
      "{1: 'hi', 'clg': 'GIST', 'dept': ['CSE', 'IT', 'AIML', 'ECE'], 'year': (1, 2, 3, 4)}\n"
     ]
    }
   ],
   "source": [
    "# dictionary\n",
    "dic={1:'hi','clg':\"GIST\",'dept':['CSE','IT','AIML','ECE'],\n",
    "    'year':(1,2,3,4)}\n",
    "print(dic)\n",
    "\n"
   ]
  },
  {
   "cell_type": "code",
   "execution_count": 155,
   "id": "c63dd1d2",
   "metadata": {},
   "outputs": [
    {
     "data": {
      "text/plain": [
       "['CSE', 'IT', 'AIML', 'ECE']"
      ]
     },
     "execution_count": 155,
     "metadata": {},
     "output_type": "execute_result"
    }
   ],
   "source": [
    "#by using key-->index\n",
    "#dict[key]=value\n",
    "dic['dept']"
   ]
  },
  {
   "cell_type": "code",
   "execution_count": 156,
   "id": "7d0a8b85",
   "metadata": {},
   "outputs": [
    {
     "data": {
      "text/plain": [
       "(1, 2, 3, 4)"
      ]
     },
     "execution_count": 156,
     "metadata": {},
     "output_type": "execute_result"
    }
   ],
   "source": [
    "dic['year']"
   ]
  },
  {
   "cell_type": "markdown",
   "id": "8e847ef2",
   "metadata": {},
   "source": [
    "##### dict methods\n",
    "- dict.keys()\n",
    "    - list of all the keys\n",
    "- dict.values()\n",
    "    - list of all the values\n",
    "- dict.items()\n",
    "    - list of tuples of items-->[(k,v),(k2,v2)...]\n",
    "- dict.popitem()\n",
    "    - last item will be deleted\n",
    "- dict.update()\n",
    "    - update the existed dict\n",
    "- dict.pop()\n",
    "    - specific item will be deleted\n",
    "- dict.copy()\n",
    "    - copies\n",
    "- dict.clear()\n",
    "    - removes all the items from dict\n"
   ]
  },
  {
   "cell_type": "code",
   "execution_count": 158,
   "id": "54894ca4",
   "metadata": {
    "collapsed": true
   },
   "outputs": [
    {
     "data": {
      "text/plain": [
       "dict_keys([1, 'clg', 'dept', 'year'])"
      ]
     },
     "execution_count": 158,
     "metadata": {},
     "output_type": "execute_result"
    }
   ],
   "source": [
    "dic.keys()"
   ]
  },
  {
   "cell_type": "code",
   "execution_count": 159,
   "id": "5f3156ef",
   "metadata": {
    "collapsed": true
   },
   "outputs": [
    {
     "data": {
      "text/plain": [
       "dict_values(['hi', 'GIST', ['CSE', 'IT', 'AIML', 'ECE'], (1, 2, 3, 4)])"
      ]
     },
     "execution_count": 159,
     "metadata": {},
     "output_type": "execute_result"
    }
   ],
   "source": [
    "dic.values()"
   ]
  },
  {
   "cell_type": "code",
   "execution_count": 160,
   "id": "9caabfd1",
   "metadata": {
    "collapsed": true
   },
   "outputs": [
    {
     "data": {
      "text/plain": [
       "dict_items([(1, 'hi'), ('clg', 'GIST'), ('dept', ['CSE', 'IT', 'AIML', 'ECE']), ('year', (1, 2, 3, 4))])"
      ]
     },
     "execution_count": 160,
     "metadata": {},
     "output_type": "execute_result"
    }
   ],
   "source": [
    "dic.items()"
   ]
  },
  {
   "cell_type": "code",
   "execution_count": 161,
   "id": "ab66e93d",
   "metadata": {},
   "outputs": [],
   "source": [
    "dic.update({'prg':['Python','C','Java'],'marks':(90,96,95)})"
   ]
  },
  {
   "cell_type": "code",
   "execution_count": 162,
   "id": "d22a8670",
   "metadata": {
    "collapsed": true
   },
   "outputs": [
    {
     "data": {
      "text/plain": [
       "{1: 'hi',\n",
       " 'clg': 'GIST',\n",
       " 'dept': ['CSE', 'IT', 'AIML', 'ECE'],\n",
       " 'year': (1, 2, 3, 4),\n",
       " 'prg': ['Python', 'C', 'Java'],\n",
       " 'marks': (90, 96, 95)}"
      ]
     },
     "execution_count": 162,
     "metadata": {},
     "output_type": "execute_result"
    }
   ],
   "source": [
    "dic"
   ]
  },
  {
   "cell_type": "code",
   "execution_count": 163,
   "id": "da610183",
   "metadata": {
    "collapsed": true
   },
   "outputs": [
    {
     "data": {
      "text/plain": [
       "('marks', (90, 96, 95))"
      ]
     },
     "execution_count": 163,
     "metadata": {},
     "output_type": "execute_result"
    }
   ],
   "source": [
    "dic.popitem()"
   ]
  },
  {
   "cell_type": "code",
   "execution_count": 164,
   "id": "d103635d",
   "metadata": {
    "collapsed": true
   },
   "outputs": [
    {
     "data": {
      "text/plain": [
       "'hi'"
      ]
     },
     "execution_count": 164,
     "metadata": {},
     "output_type": "execute_result"
    }
   ],
   "source": [
    "dic.pop(1)#specific item"
   ]
  },
  {
   "cell_type": "code",
   "execution_count": 165,
   "id": "c32c7a2a",
   "metadata": {
    "collapsed": true
   },
   "outputs": [
    {
     "data": {
      "text/plain": [
       "{'clg': 'GIST',\n",
       " 'dept': ['CSE', 'IT', 'AIML', 'ECE'],\n",
       " 'year': (1, 2, 3, 4),\n",
       " 'prg': ['Python', 'C', 'Java']}"
      ]
     },
     "execution_count": 165,
     "metadata": {},
     "output_type": "execute_result"
    }
   ],
   "source": [
    "dic"
   ]
  },
  {
   "cell_type": "code",
   "execution_count": 166,
   "id": "92ee1da5",
   "metadata": {
    "collapsed": true
   },
   "outputs": [
    {
     "data": {
      "text/plain": [
       "{'clg': 'GIST',\n",
       " 'dept': ['CSE', 'IT', 'AIML', 'ECE'],\n",
       " 'year': (1, 2, 3, 4),\n",
       " 'prg': ['Python', 'C', 'Java'],\n",
       " 'new': 100}"
      ]
     },
     "execution_count": 166,
     "metadata": {},
     "output_type": "execute_result"
    }
   ],
   "source": [
    "# only one item\n",
    "dic['new']=100\n",
    "dic"
   ]
  },
  {
   "cell_type": "code",
   "execution_count": 167,
   "id": "fc30f90e",
   "metadata": {
    "collapsed": true
   },
   "outputs": [
    {
     "name": "stdout",
     "output_type": "stream",
     "text": [
      "clg:GIST\n",
      "dept:['CSE', 'IT', 'AIML', 'ECE']\n",
      "year:(1, 2, 3, 4)\n",
      "prg:['Python', 'C', 'Java']\n",
      "new:100\n"
     ]
    }
   ],
   "source": [
    "for k,v in dic.items():\n",
    "    print(k,v,sep=\":\")"
   ]
  },
  {
   "cell_type": "code",
   "execution_count": 171,
   "id": "2b5035d5",
   "metadata": {},
   "outputs": [
    {
     "name": "stdout",
     "output_type": "stream",
     "text": [
      "Items Available...\n",
      "\n",
      "Biryani Rs. 150 /-\n",
      "Fish Curry Rs. 150 /-\n",
      "Fried Rice Rs. 100 /-\n",
      "Manchurian Rs. 100 /-\n",
      "Noodles Rs. 80 /-\n",
      "Milk shake Rs. 90 /-\n",
      "Ice Cream Rs. 50 /-\n",
      "Water Bottle Rs. 20 /-\n",
      "Cool Drink Rs. 25 /-\n",
      "place your order:cool drink\n",
      "Sorry cool drink is not available...!\n",
      "Your bill= 0\n"
     ]
    }
   ],
   "source": [
    "# write a python program of menu card in a restaurant\n",
    "menu={'Biryani':150,'Fish Curry':150,'Fried Rice':100,\n",
    "     'Manchurian':100,'Noodles':80,'Milk shake':90,\n",
    "     'Ice Cream':50,'Water Bottle':20,'Cool Drink':25}\n",
    "print(\"Items Available...\\n\")\n",
    "for item,price in menu.items():\n",
    "    print(item,\"Rs.\",menu[item],\"/-\")\n",
    "order=input(\"place your order:\").split(',')\n",
    "bill=0\n",
    "for item in order:\n",
    "    if item in menu:\n",
    "        bill+=menu[item]\n",
    "    else:\n",
    "        print(\"Sorry\", item,\"is not available...!\")\n",
    "print(\"Your bill=\",bill)"
   ]
  },
  {
   "cell_type": "markdown",
   "id": "5dc47316",
   "metadata": {},
   "source": [
    "#### Files\n",
    "- anything that contains data/information called as a file\n",
    "- different kind of files in our device\n",
    "    - .txt,.doc,.xls,.ppt,.mp3,.mp4,.exe,.py,.c,.java etc\n",
    "    - apk(mobile)\n",
    "- **File Operations**\n",
    "    - file existance\n",
    "    - open()\n",
    "    - read()\n",
    "    - write()\n",
    "    - append()\n",
    "    - close()"
   ]
  },
  {
   "cell_type": "code",
   "execution_count": 172,
   "id": "b2fe0bf3",
   "metadata": {},
   "outputs": [
    {
     "name": "stdout",
     "output_type": "stream",
     "text": [
      "<_io.TextIOWrapper name='first.txt' mode='r' encoding='cp1252'>\n"
     ]
    }
   ],
   "source": [
    "file=open(\"first.txt\")\n",
    "print(file)"
   ]
  },
  {
   "cell_type": "code",
   "execution_count": 174,
   "id": "5328bd8b",
   "metadata": {
    "collapsed": true
   },
   "outputs": [
    {
     "name": "stdout",
     "output_type": "stream",
     "text": [
      "This day4 of DA workshop,\n",
      "Today I have learned Data Structures in python and\n",
      "Working with files.\n"
     ]
    },
    {
     "data": {
      "text/plain": [
       "(str, _io.TextIOWrapper)"
      ]
     },
     "execution_count": 174,
     "metadata": {},
     "output_type": "execute_result"
    }
   ],
   "source": [
    "file=open('first.txt','r') # filename,mode-->'r' to read the file\n",
    "print(file.read()) # read()\n",
    "data=file.read()\n",
    "type(data),type(file)"
   ]
  },
  {
   "cell_type": "code",
   "execution_count": 175,
   "id": "82838ba0",
   "metadata": {
    "collapsed": true
   },
   "outputs": [
    {
     "name": "stdout",
     "output_type": "stream",
     "text": [
      "['This day4 of DA workshop,\\n', 'Today I have learned Data Structures in python and\\n', 'Working with files.']\n"
     ]
    }
   ],
   "source": [
    "# using readlines\n",
    "with open(\"first.txt\",'r') as lines:\n",
    "    li=lines.readlines()\n",
    "print(li) #list of lines"
   ]
  },
  {
   "cell_type": "code",
   "execution_count": 177,
   "id": "0aa38f96",
   "metadata": {},
   "outputs": [
    {
     "name": "stdout",
     "output_type": "stream",
     "text": [
      "print(\"welcome to DA Workshop\")\n",
      "def is_even(n):\n",
      "    if n%2==0:\n",
      "        return True\n",
      "    else:return False\n",
      "    \n",
      "    \n",
      "#is_even(9)\n"
     ]
    }
   ],
   "source": [
    "py=open(\"second.py\",'r')\n",
    "prgm=py.read()\n",
    "print(prgm)"
   ]
  },
  {
   "cell_type": "code",
   "execution_count": null,
   "id": "13d4b0fe",
   "metadata": {},
   "outputs": [],
   "source": []
  }
 ],
 "metadata": {
  "kernelspec": {
   "display_name": "Python 3 (ipykernel)",
   "language": "python",
   "name": "python3"
  },
  "language_info": {
   "codemirror_mode": {
    "name": "ipython",
    "version": 3
   },
   "file_extension": ".py",
   "mimetype": "text/x-python",
   "name": "python",
   "nbconvert_exporter": "python",
   "pygments_lexer": "ipython3",
   "version": "3.9.13"
  }
 },
 "nbformat": 4,
 "nbformat_minor": 5
}
