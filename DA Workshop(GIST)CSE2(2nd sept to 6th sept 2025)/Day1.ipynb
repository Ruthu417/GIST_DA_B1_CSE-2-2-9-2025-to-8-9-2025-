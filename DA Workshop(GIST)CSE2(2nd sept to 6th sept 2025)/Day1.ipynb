{
 "cells": [
  {
   "cell_type": "code",
   "execution_count": 4,
   "id": "f2272376",
   "metadata": {},
   "outputs": [
    {
     "name": "stdout",
     "output_type": "stream",
     "text": [
      "welcome\n"
     ]
    },
    {
     "data": {
      "text/plain": [
       "17"
      ]
     },
     "execution_count": 4,
     "metadata": {},
     "output_type": "execute_result"
    }
   ],
   "source": [
    "print(\"welcome\") # output to the user/programmer\n",
    "9+8 # return to the interpreter/processor"
   ]
  },
  {
   "cell_type": "markdown",
   "id": "58b65358",
   "metadata": {},
   "source": [
    "python is a general purpose,high level and interpreted programming language developed by **Guido Van Rossum** in the year 1991"
   ]
  },
  {
   "cell_type": "markdown",
   "id": "33eac992",
   "metadata": {},
   "source": [
    "#### Day1 Outcomes\n",
    "- Workshop Syllabus overview\n",
    "- downloading python from sources such as python official website,ms store\n",
    "- python code execution in cmd,idle and jupyter notebook\n",
    "- Introduction to Python,Features,Applications of python\n",
    "- Jupyter notebook installation from Anaconda,Intro t Jupyter notebook environment\n",
    "- Overview of the juypyter\n",
    "- **Tasks**\n",
    "    - learn keyboard shortcuts of jupyter\n",
    "    - review of python basics\n",
    "    - create your github accounts"
   ]
  },
  {
   "cell_type": "code",
   "execution_count": null,
   "id": "df0279a3",
   "metadata": {},
   "outputs": [],
   "source": []
  },
  {
   "cell_type": "code",
   "execution_count": null,
   "id": "d47e7391",
   "metadata": {},
   "outputs": [],
   "source": []
  },
  {
   "cell_type": "code",
   "execution_count": null,
   "id": "3c55d27a",
   "metadata": {},
   "outputs": [],
   "source": []
  },
  {
   "cell_type": "code",
   "execution_count": null,
   "id": "ea22ca18",
   "metadata": {},
   "outputs": [],
   "source": []
  },
  {
   "cell_type": "code",
   "execution_count": null,
   "id": "1325472d",
   "metadata": {},
   "outputs": [],
   "source": []
  }
 ],
 "metadata": {
  "kernelspec": {
   "display_name": "Python 3 (ipykernel)",
   "language": "python",
   "name": "python3"
  },
  "language_info": {
   "codemirror_mode": {
    "name": "ipython",
    "version": 3
   },
   "file_extension": ".py",
   "mimetype": "text/x-python",
   "name": "python",
   "nbconvert_exporter": "python",
   "pygments_lexer": "ipython3",
   "version": "3.9.13"
  }
 },
 "nbformat": 4,
 "nbformat_minor": 5
}
