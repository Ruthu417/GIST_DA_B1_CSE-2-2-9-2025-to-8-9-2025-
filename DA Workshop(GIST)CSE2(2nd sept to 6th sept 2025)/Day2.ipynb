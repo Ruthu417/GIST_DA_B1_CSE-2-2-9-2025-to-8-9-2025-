{
 "cells": [
  {
   "cell_type": "markdown",
   "id": "fd1b618c",
   "metadata": {},
   "source": [
    "### Day2 Concepts\n",
    "- Introduction to Markdown\n",
    "- Python basics"
   ]
  },
  {
   "cell_type": "markdown",
   "id": "eb367656",
   "metadata": {},
   "source": [
    "## Markdown Basics\n",
    "- Headings\n",
    "    - 6 headings\n",
    "- paragraphs\n",
    "- links\n",
    "- images\n",
    "- tables"
   ]
  },
  {
   "cell_type": "markdown",
   "id": "89c3befa",
   "metadata": {},
   "source": [
    "# heading1\n",
    "## heading2\n",
    "### heading3\n",
    "#### heading4\n",
    "##### heading5\n",
    "###### heading6"
   ]
  },
  {
   "cell_type": "markdown",
   "id": "6153b76e",
   "metadata": {},
   "source": [
    "#### Font styles\n",
    "- plain text\n",
    "- *italic text*\n",
    "- **bold text**\n",
    "- ***bold italic***"
   ]
  },
  {
   "cell_type": "markdown",
   "id": "97fddd2d",
   "metadata": {},
   "source": [
    "### URLs\n",
    "[text to diplay](url)<br>\n",
    "[Google](https://www.google.com/)<br>\n",
    "[Facebook](https://www.instagram.com/)<br>\n",
    "[Youtube](https://www.youtube.com/)<br>\n",
    "[Instagram](https://www.instagram.com/)"
   ]
  },
  {
   "cell_type": "markdown",
   "id": "f10471c9",
   "metadata": {},
   "source": [
    "#### Creating Markdown tables"
   ]
  },
  {
   "cell_type": "markdown",
   "id": "0c16159d",
   "metadata": {},
   "source": [
    "|S.No|Name|Roll|Dept|Year|\n",
    "|---|---|---|---|---|\n",
    "|1|Mallika|123|CSE|2\n",
    "|2|Geethika|456|ECE|3|\n",
    "|3|Rithesh|203|AIML|1|\n",
    "|4|Deepak|405|AIDS|4|\n"
   ]
  },
  {
   "cell_type": "markdown",
   "id": "753712ee",
   "metadata": {},
   "source": [
    "### Image Display\n",
    "<img> html tag"
   ]
  },
  {
   "cell_type": "markdown",
   "id": "c5120c74",
   "metadata": {},
   "source": [
    "<img src=\"ds.jpg\" height=120px width=120px align='right'>"
   ]
  },
  {
   "cell_type": "markdown",
   "id": "a71275e9",
   "metadata": {},
   "source": [
    "<img src=\"clg.jpg\" hight=100px width=100px align=center>"
   ]
  },
  {
   "cell_type": "markdown",
   "id": "9348d81f",
   "metadata": {},
   "source": [
    "### Data Analysis Workshop Schedule\n",
    "#### Day1\n",
    "   1. Software installations\n",
    "       1. from python official website\n",
    "       2. anaconda\n",
    "   2. python programming/coding\n",
    "       - cmd\n",
    "       - IDLE\n",
    "       - jupyter notebook\n",
    "   3. Python Mobile Application\n",
    "       - pydroid3\n",
    "#### Day2 Concepts\n",
    "- Introduction to Markdown(**Morning Session**)\n",
    "    - Headings\n",
    "    - font styles\n",
    "    - tables\n",
    "    - URLs\n",
    "    - images display\n",
    "    - HTMLtags-inline CSS\n",
    "- Introduction to Python Concepts(**Noon Session**)\n",
    "    - python variables\n",
    "    - datatypes\n",
    "    - inputs\n",
    "    - operators\n",
    "    - conditionals\n",
    "    - loops\n",
    "    \n",
    "#### Day3\n",
    "#### Day4\n",
    "#### Day5"
   ]
  },
  {
   "cell_type": "markdown",
   "id": "4bb0d6f3",
   "metadata": {},
   "source": [
    "#### Day2 Task\n",
    "- Student Resume Creation using markdown(Jupyter)\n",
    "    - resume should have your profile picture,your education details in a table and your social media links"
   ]
  },
  {
   "cell_type": "markdown",
   "id": "4c57cf50",
   "metadata": {},
   "source": [
    "### Introduction to Python \n",
    "- python is a general purpose,high level and interpreted programming language\n",
    "    - **General Purpose**\n",
    "        - used for multiple purposes such as web development,app dev,system s/w deve and scientific computation\n",
    "    - **High Level Lang**\n",
    "        - user understandable language\n",
    "    - **Interpreged Language**\n",
    "        - gives us the line by line execution\n",
    "- It was introduced in the year 1991 by Guido Van Rossum\n",
    "- **Features of python**\n",
    "    - It is semi-object oriented\n",
    "    - It is a syntax free language,seems to be English lang\n",
    "    - It is both case sensitive and space sensitive\n",
    "    - It is simple to code and easy to learn\n",
    "    - It is dynamically typed lang\n",
    "- **Applications**\n",
    "    - Robotics,IOT,CC,DS(AI , ML)  etc"
   ]
  },
  {
   "cell_type": "code",
   "execution_count": 6,
   "id": "284d2743",
   "metadata": {},
   "outputs": [
    {
     "name": "stdout",
     "output_type": "stream",
     "text": [
      "Welcome\n",
      "welcome\n",
      "welcome\n"
     ]
    },
    {
     "data": {
      "text/plain": [
       "'I am Ruthu Technical Trainer from Aylin Technologies'"
      ]
     },
     "execution_count": 6,
     "metadata": {},
     "output_type": "execute_result"
    }
   ],
   "source": [
    "# welcome message\n",
    "print('Welcome')\n",
    "print(\"welcome\")\n",
    "print('''welcome''')\n",
    "\"I am Ruthu Technical Trainer from Aylin Technologies\"\n"
   ]
  },
  {
   "cell_type": "markdown",
   "id": "d8752dc5",
   "metadata": {},
   "source": [
    "#### Errors in python\n",
    "- An invalid statement in the program said to be Error\n",
    "- 3types of errors\n",
    "    1. Syntax Error\n",
    "        - Error related to syntax\n",
    "    2. Value Error\n",
    "        - key error,name error,value error,file not found error(files)\n",
    "    3. Indentation Error\n",
    "        - Error related to space"
   ]
  },
  {
   "cell_type": "markdown",
   "id": "e6a50d68",
   "metadata": {},
   "source": [
    "#### Variables in python\n",
    "- Varaible is a container used to store the data\n",
    "- let x=10"
   ]
  },
  {
   "cell_type": "code",
   "execution_count": 12,
   "id": "cfce6b4f",
   "metadata": {
    "collapsed": true
   },
   "outputs": [
    {
     "name": "stdout",
     "output_type": "stream",
     "text": [
      "Ambani\n",
      "I am Ambani\n",
      "I am Ambani staying in  Mumbai Employer of JIO\n"
     ]
    }
   ],
   "source": [
    "# No datatype declaration in python\n",
    "name=\"Ambani\"\n",
    "idn=5421\n",
    "comp=\"JIO\"\n",
    "location='Mumbai'\n",
    "print(name)\n",
    "print(\"I am\",name)\n",
    "print(\"I am\",name,\"staying in \",location,'Employer of',comp)"
   ]
  },
  {
   "cell_type": "code",
   "execution_count": 13,
   "id": "93856156",
   "metadata": {},
   "outputs": [
    {
     "name": "stdout",
     "output_type": "stream",
     "text": [
      "I am Anitha having roll number 242UA05401 from CSE 2 nd year in GIST located at Nellore\n"
     ]
    }
   ],
   "source": [
    "# you are the st of clg studying cse 2nd year\n",
    "st='Anitha'\n",
    "roll=\"242UA05401\"\n",
    "dept=\"CSE\"\n",
    "yr=2\n",
    "clg=\"GIST\"\n",
    "loc=\"Nellore\"\n",
    "print(\"I am\",st,\"having roll number\",roll,\"from\",dept,yr,'nd year in',clg,\"located at\",loc)"
   ]
  },
  {
   "cell_type": "code",
   "execution_count": 14,
   "id": "a8b6097e",
   "metadata": {},
   "outputs": [
    {
     "name": "stdout",
     "output_type": "stream",
     "text": [
      "10 20 30 10 20 30 50 50\n"
     ]
    }
   ],
   "source": [
    "# multi variable assingments to a value in a single line\n",
    "x=10; y=20; z=30 # this is possible in python 2+ v\n",
    "a,b,c=10,20,30\n",
    "f=s=50 # \n",
    "print(x,y,z,a,b,c,f,s)"
   ]
  },
  {
   "cell_type": "code",
   "execution_count": 15,
   "id": "175b267e",
   "metadata": {
    "collapsed": true
   },
   "outputs": [
    {
     "name": "stdout",
     "output_type": "stream",
     "text": [
      "enter a lang:python\n",
      "marks obtained:90\n",
      "9.4\n"
     ]
    }
   ],
   "source": [
    "# dynamic inputs\n",
    "lang=input(\"enter a lang:\") # to read str data by default\n",
    "marks=int(input(\"marks obtained:\"))\n",
    "review=float(input())"
   ]
  },
  {
   "cell_type": "code",
   "execution_count": 19,
   "id": "43c129bc",
   "metadata": {},
   "outputs": [
    {
     "data": {
      "text/plain": [
       "(str, int, float)"
      ]
     },
     "execution_count": 19,
     "metadata": {},
     "output_type": "execute_result"
    }
   ],
   "source": [
    "type(lang),type(marks),type(review)"
   ]
  },
  {
   "cell_type": "markdown",
   "id": "83368694",
   "metadata": {},
   "source": [
    "#### datatype conversion/casting\n",
    "- conversion of datatype of var/iterable from one format to another\n",
    "- 2types of conversions\n",
    "    1. Implicit conversion\n",
    "        - Default conversion by the interpreter\n",
    "    2. Explicit conversion\n",
    "        - User conversion\n",
    "            - Ex:int(input())\n",
    "    "
   ]
  },
  {
   "cell_type": "code",
   "execution_count": 20,
   "id": "ba3a3416",
   "metadata": {
    "collapsed": true
   },
   "outputs": [
    {
     "name": "stdout",
     "output_type": "stream",
     "text": [
      "18\n",
      "13.5\n"
     ]
    }
   ],
   "source": [
    "# implicit conversion\n",
    "print(9+9)\n",
    "print(9+4.5) #int into float"
   ]
  },
  {
   "cell_type": "code",
   "execution_count": 22,
   "id": "dd97b210",
   "metadata": {
    "collapsed": true
   },
   "outputs": [
    {
     "ename": "TypeError",
     "evalue": "unsupported operand type(s) for +: 'int' and 'str'",
     "output_type": "error",
     "traceback": [
      "\u001b[1;31m---------------------------------------------------------------------------\u001b[0m",
      "\u001b[1;31mTypeError\u001b[0m                                 Traceback (most recent call last)",
      "\u001b[1;32m~\\AppData\\Local\\Temp\\ipykernel_8176\\795114004.py\u001b[0m in \u001b[0;36m<module>\u001b[1;34m\u001b[0m\n\u001b[0;32m      3\u001b[0m \u001b[0mpr\u001b[0m\u001b[1;33m=\u001b[0m\u001b[1;36m11\u001b[0m\u001b[1;33m\u001b[0m\u001b[1;33m\u001b[0m\u001b[0m\n\u001b[0;32m      4\u001b[0m \u001b[0mp\u001b[0m\u001b[1;33m=\u001b[0m\u001b[1;34m'11'\u001b[0m\u001b[1;33m\u001b[0m\u001b[1;33m\u001b[0m\u001b[0m\n\u001b[1;32m----> 5\u001b[1;33m \u001b[0mprint\u001b[0m\u001b[1;33m(\u001b[0m\u001b[0mpr\u001b[0m\u001b[1;33m+\u001b[0m\u001b[0mp\u001b[0m\u001b[1;33m)\u001b[0m \u001b[1;31m# raises error\u001b[0m\u001b[1;33m\u001b[0m\u001b[1;33m\u001b[0m\u001b[0m\n\u001b[0m",
      "\u001b[1;31mTypeError\u001b[0m: unsupported operand type(s) for +: 'int' and 'str'"
     ]
    }
   ],
   "source": [
    "#Explicit conversion\n",
    "num=8\n",
    "pr=11\n",
    "p='11'\n",
    "print(pr+p) # raises error"
   ]
  },
  {
   "cell_type": "code",
   "execution_count": 23,
   "id": "85eddefd",
   "metadata": {
    "collapsed": true
   },
   "outputs": [
    {
     "data": {
      "text/plain": [
       "22"
      ]
     },
     "execution_count": 23,
     "metadata": {},
     "output_type": "execute_result"
    }
   ],
   "source": [
    "pr+int(p) # str into int"
   ]
  },
  {
   "cell_type": "code",
   "execution_count": 24,
   "id": "8e7546ea",
   "metadata": {
    "collapsed": true
   },
   "outputs": [
    {
     "data": {
      "text/plain": [
       "'1111'"
      ]
     },
     "execution_count": 24,
     "metadata": {},
     "output_type": "execute_result"
    }
   ],
   "source": [
    "p+str(pr) # int into str"
   ]
  },
  {
   "cell_type": "markdown",
   "id": "32fa46f9",
   "metadata": {},
   "source": [
    "#### Keywords in python\n",
    "- A reserved word which has special meaning and purpose\n",
    "- 35 keywords in python\n",
    "- List of keywords\n",
    "- as,and,break,continue,class,def,del,else,elif,for,if,in,lambda,catch,or,pass,raise,with,try,while,yield,return,not etc"
   ]
  },
  {
   "cell_type": "code",
   "execution_count": 25,
   "id": "c8005339",
   "metadata": {
    "collapsed": true
   },
   "outputs": [
    {
     "name": "stdout",
     "output_type": "stream",
     "text": [
      "['False', 'None', 'True', '__peg_parser__', 'and', 'as', 'assert', 'async', 'await', 'break', 'class', 'continue', 'def', 'del', 'elif', 'else', 'except', 'finally', 'for', 'from', 'global', 'if', 'import', 'in', 'is', 'lambda', 'nonlocal', 'not', 'or', 'pass', 'raise', 'return', 'try', 'while', 'with', 'yield']\n"
     ]
    }
   ],
   "source": [
    "import keyword\n",
    "print(keyword.kwlist)"
   ]
  },
  {
   "cell_type": "code",
   "execution_count": 1,
   "id": "c84c6c8d",
   "metadata": {
    "collapsed": true
   },
   "outputs": [
    {
     "name": "stdout",
     "output_type": "stream",
     "text": [
      "first number:90\n",
      "second number:4\n",
      "sum= 94\n",
      "diff= 86\n",
      "product= 360\n",
      "exponent= 65610000\n",
      "coefficient= 22.5\n",
      "exact division= 22\n",
      "remainder= 2\n"
     ]
    }
   ],
   "source": [
    "# write a python program to take/read 2 integers from user and \n",
    "#perform all the arithmetic operations\n",
    "fs=int(input(\"first number:\"))\n",
    "sec=int(input(\"second number:\"))\n",
    "print(\"sum=\",fs+sec)\n",
    "print(\"diff=\",fs-sec)\n",
    "print(\"product=\",fs*sec)\n",
    "print(\"exponent=\",fs**sec)\n",
    "print(\"coefficient=\",fs/sec)\n",
    "print(\"exact division=\",fs//sec)\n",
    "print(\"remainder=\",fs%sec)"
   ]
  },
  {
   "cell_type": "code",
   "execution_count": 2,
   "id": "855866fd",
   "metadata": {},
   "outputs": [],
   "source": [
    "# Develop the calculator logic"
   ]
  },
  {
   "cell_type": "markdown",
   "id": "dbd1a541",
   "metadata": {},
   "source": [
    "#### Operators in python\n",
    "- Anything that perfroms the operations on the operands\n",
    "    - Ex:a+b , + is the arithmetic op'r \n",
    "- arithmetic operators\n",
    "    - +,-,*,**,/,//,%\n",
    "- assignment\n",
    "    - =,+=,*=,-=,/=\n",
    "- bitwise\n",
    "    - operating on the each bit of the digit\n",
    "    - int has 4bytes\n",
    "    - 1byte=8bits, 32bits for int\n",
    "    - ||,&&,<<,>>,^(xor)\n",
    "- boolean\n",
    "    - True,False,None\n",
    "- conditional\n",
    "    - if,else,elif\n",
    "- relational\n",
    "    - <,<=,>,>=,==,!=\n",
    "- identity \n",
    "    - is,is not\n",
    "- logical\n",
    "    - and,or,not\n",
    "- membership\n",
    "    - in,not in\n",
    "- operators used in print\n",
    "    - sep,end"
   ]
  },
  {
   "cell_type": "code",
   "execution_count": 3,
   "id": "41eb65e7",
   "metadata": {
    "collapsed": true
   },
   "outputs": [
    {
     "name": "stdout",
     "output_type": "stream",
     "text": [
      "enter the number:9\n",
      "second number:5\n",
      "val= 19\n",
      "val2= 0\n",
      "13.571428571428571 0\n"
     ]
    }
   ],
   "source": [
    "# assignment operators ->=,+=,*=,-=,/=\n",
    "val=int(input(\"enter the number:\"))\n",
    "val2=int(input(\"second number:\"))\n",
    "val=val+10 # val+=10\n",
    "print(\"val=\",val)\n",
    "val2=val2-5 # val2-=5\n",
    "print(\"val2=\",val2)\n",
    "val*=5 # val=val*5\n",
    "val/=7\n",
    "print(val,val2)"
   ]
  },
  {
   "cell_type": "code",
   "execution_count": 7,
   "id": "0ff0d2cf",
   "metadata": {
    "collapsed": true
   },
   "outputs": [
    {
     "name": "stdout",
     "output_type": "stream",
     "text": [
      "False True\n"
     ]
    },
    {
     "name": "stderr",
     "output_type": "stream",
     "text": [
      "<>:4: SyntaxWarning: \"is\" with a literal. Did you mean \"==\"?\n",
      "<>:4: SyntaxWarning: \"is\" with a literal. Did you mean \"==\"?\n",
      "<>:4: SyntaxWarning: \"is\" with a literal. Did you mean \"==\"?\n",
      "<>:4: SyntaxWarning: \"is\" with a literal. Did you mean \"==\"?\n",
      "C:\\Users\\ruthu\\AppData\\Local\\Temp\\ipykernel_1260\\1592217552.py:4: SyntaxWarning: \"is\" with a literal. Did you mean \"==\"?\n",
      "  print(x is 20,y is 20) #\n",
      "C:\\Users\\ruthu\\AppData\\Local\\Temp\\ipykernel_1260\\1592217552.py:4: SyntaxWarning: \"is\" with a literal. Did you mean \"==\"?\n",
      "  print(x is 20,y is 20) #\n"
     ]
    },
    {
     "data": {
      "text/plain": [
       "(False, True, None)"
      ]
     },
     "execution_count": 7,
     "metadata": {},
     "output_type": "execute_result"
    }
   ],
   "source": [
    "# boolean\n",
    "x=10\n",
    "y=20\n",
    "print(x is 20,y is 20) # id(x)\n",
    "b=False\n",
    "a=True\n",
    "n=None\n",
    "b,a,n"
   ]
  },
  {
   "cell_type": "code",
   "execution_count": 8,
   "id": "b6414599",
   "metadata": {
    "collapsed": true
   },
   "outputs": [
    {
     "data": {
      "text/plain": [
       "(1685613537872, 1685613538192)"
      ]
     },
     "execution_count": 8,
     "metadata": {},
     "output_type": "execute_result"
    }
   ],
   "source": [
    "id(x),id(y)"
   ]
  },
  {
   "cell_type": "code",
   "execution_count": 9,
   "id": "f2c6b28d",
   "metadata": {
    "collapsed": true
   },
   "outputs": [
    {
     "data": {
      "text/plain": [
       "(1685613537872, 1685613537872)"
      ]
     },
     "execution_count": 9,
     "metadata": {},
     "output_type": "execute_result"
    }
   ],
   "source": [
    "i=j=10\n",
    "id(i),id(j)"
   ]
  },
  {
   "cell_type": "code",
   "execution_count": 1,
   "id": "2b356128",
   "metadata": {},
   "outputs": [
    {
     "name": "stdout",
     "output_type": "stream",
     "text": [
      "0b1010 0b1111\n",
      "bitwise and= 10\n",
      "bitwise or= 15\n",
      "XOR 5\n",
      "left shift result= 2097152\n",
      "right shift result= 2\n"
     ]
    }
   ],
   "source": [
    "# Bitwise Operators\n",
    "v=10\n",
    "y=15\n",
    "z=20\n",
    "print(bin(v),bin(y))#binary\n",
    "print(\"bitwise and=\",v&y)\n",
    "print(\"bitwise or=\",v|y)\n",
    "print(\"XOR\",v^y)\n",
    "print(\"left shift result=\",2<<z) # val gets upated-->80\n",
    "print(\"right shift result=\",z>>3) # r\n"
   ]
  },
  {
   "cell_type": "code",
   "execution_count": 32,
   "id": "d15aa04d",
   "metadata": {},
   "outputs": [
    {
     "ename": "SyntaxError",
     "evalue": "invalid syntax (3143688631.py, line 2)",
     "output_type": "error",
     "traceback": [
      "\u001b[1;36m  File \u001b[1;32m\"C:\\Users\\ruthu\\AppData\\Local\\Temp\\ipykernel_1260\\3143688631.py\"\u001b[1;36m, line \u001b[1;32m2\u001b[0m\n\u001b[1;33m    0000 1010\u001b[0m\n\u001b[1;37m         ^\u001b[0m\n\u001b[1;31mSyntaxError\u001b[0m\u001b[1;31m:\u001b[0m invalid syntax\n"
     ]
    }
   ],
   "source": [
    " # bitwise and(&)\n",
    "0000 1010\n",
    "0000 1111\n",
    "=========\n",
    "0000 1010\n",
    "0000 1111\n",
    "0000 0101-->"
   ]
  },
  {
   "cell_type": "code",
   "execution_count": 18,
   "id": "b6b9d0b0",
   "metadata": {},
   "outputs": [
    {
     "data": {
      "text/plain": [
       "'0b10100'"
      ]
     },
     "execution_count": 18,
     "metadata": {},
     "output_type": "execute_result"
    }
   ],
   "source": [
    "bin(20)"
   ]
  },
  {
   "cell_type": "code",
   "execution_count": 20,
   "id": "533e44dc",
   "metadata": {
    "collapsed": true
   },
   "outputs": [
    {
     "ename": "SyntaxError",
     "evalue": "leading zeros in decimal integer literals are not permitted; use an 0o prefix for octal integers (3124871171.py, line 1)",
     "output_type": "error",
     "traceback": [
      "\u001b[1;36m  File \u001b[1;32m\"C:\\Users\\ruthu\\AppData\\Local\\Temp\\ipykernel_1260\\3124871171.py\"\u001b[1;36m, line \u001b[1;32m1\u001b[0m\n\u001b[1;33m    00010100 # 20\u001b[0m\n\u001b[1;37m           ^\u001b[0m\n\u001b[1;31mSyntaxError\u001b[0m\u001b[1;31m:\u001b[0m leading zeros in decimal integer literals are not permitted; use an 0o prefix for octal integers\n"
     ]
    }
   ],
   "source": [
    "00010100 # 20\n",
    "0000 0000-> 0001 0100-->0101 0000--> 2**6+2**4=64+16=80\n",
    "000010100-->00000010-->2"
   ]
  },
  {
   "cell_type": "code",
   "execution_count": null,
   "id": "a12e3dff",
   "metadata": {},
   "outputs": [],
   "source": []
  }
 ],
 "metadata": {
  "kernelspec": {
   "display_name": "Python 3 (ipykernel)",
   "language": "python",
   "name": "python3"
  },
  "language_info": {
   "codemirror_mode": {
    "name": "ipython",
    "version": 3
   },
   "file_extension": ".py",
   "mimetype": "text/x-python",
   "name": "python",
   "nbconvert_exporter": "python",
   "pygments_lexer": "ipython3",
   "version": "3.9.13"
  }
 },
 "nbformat": 4,
 "nbformat_minor": 5
}
